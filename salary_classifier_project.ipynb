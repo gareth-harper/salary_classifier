{
 "cells": [
  {
   "cell_type": "markdown",
   "metadata": {
    "focus": false,
    "id": "69b9a648-bcc7-490d-9f9b-ea244d156bd6"
   },
   "source": [
    "# Classifying Salaries of Data-Related Jobs"
   ]
  },
  {
   "cell_type": "markdown",
   "metadata": {
    "focus": false,
    "id": "a948d79c-5527-4c0d-ab23-f5d43ce72056"
   },
   "source": [
    "### Scraping job listings from Indeed.com"
   ]
  },
  {
   "cell_type": "markdown",
   "metadata": {
    "focus": true,
    "id": "7203e0c9-e437-4802-a6ad-7dc464f94436"
   },
   "source": [
    "We will be scraping job listings from Indeed.com using BeautifulSoup. Luckily, Indeed.com is a simple text page where we can easily find relevant entries.\n",
    "\n",
    "First, look at the source of an Indeed.com page: (http://www.indeed.com/jobs?q=data+scientist+%2420%2C000&l=New+York&start=10\").\n",
    "\n",
    "Notice, each job listing is underneath a `div` tag with a class name of `result`. We can use BeautifulSoup to extract those. "
   ]
  },
  {
   "cell_type": "markdown",
   "metadata": {
    "focus": false,
    "id": "9732c901-ae26-4160-8376-42e22dd327df"
   },
   "source": [
    "#### Setup a request (using `requests`) to the URL below. Use BeautifulSoup to parse the page and extract all results (HINT: Look for div tags with class name result)\n",
    "\n",
    "The URL here has many query parameters:\n",
    "\n",
    "- `q` for the job search\n",
    "- This is followed by \"+20,000\" to return results with salaries (or expected salaries >$20,000)\n",
    "- `l` for a location \n",
    "- `start` for what result number to start on"
   ]
  },
  {
   "cell_type": "code",
   "execution_count": 1,
   "metadata": {
    "focus": false,
    "id": "e915023e-6b0d-4982-af2a-b1e0355f4927"
   },
   "outputs": [],
   "source": [
    "URL = \"http://www.indeed.com/jobs?q=data+scientist+%2420%2C000&l=New+York&start=10\""
   ]
  },
  {
   "cell_type": "code",
   "execution_count": 2,
   "metadata": {
    "focus": false,
    "id": "2efefc73-064a-482d-b3b5-ddf5508cb4ec"
   },
   "outputs": [],
   "source": [
    "import requests\n",
    "import bs4\n",
    "from bs4 import BeautifulSoup\n",
    "import numpy as np\n",
    "import pandas as pd\n",
    "import datetime\n",
    "import time\n",
    "import random\n",
    "from tqdm import tqdm\n",
    "import csv\n",
    "import glob\n",
    "import re\n",
    "import matplotlib.pyplot as plt\n",
    "import seaborn as sns"
   ]
  },
  {
   "cell_type": "code",
   "execution_count": 3,
   "metadata": {},
   "outputs": [],
   "source": [
    "r = requests.get(URL)\n",
    "soup = BeautifulSoup(r.text, 'html.parser')"
   ]
  },
  {
   "cell_type": "markdown",
   "metadata": {
    "focus": false,
    "id": "f1eddb90-4ba8-483c-a229-77e93aa53119"
   },
   "source": [
    "### Write 4 functions to extract each item: location, company, job, and salary.\n",
    "\n",
    "Example: \n",
    "```python\n",
    "def extract_location_from_result(result):\n",
    "    return result.find ...\n",
    "```\n",
    "\n",
    "\n",
    "- **Make sure these functions are robust and can handle cases where the data/field may not be available.**\n",
    "    - Remember to check if a field is empty or `None` for attempting to call methods on it.\n",
    "    - Remember to use `try/except` if you anticipate errors.\n",
    "- **Test** the functions on the results above and simple examples."
   ]
  },
  {
   "cell_type": "code",
   "execution_count": 4,
   "metadata": {},
   "outputs": [],
   "source": [
    "def extract_location_from_result(result):\n",
    "    try:\n",
    "        j_location = result.find('div', attrs={'class':'companyLocation'}).text.strip()\n",
    "    except:\n",
    "        j_location = np.nan\n",
    "    return j_location\n",
    "\n",
    "def extract_company_from_result(result):\n",
    "    try:\n",
    "        j_company = result.find('span', attrs={'class':'companyName'}).text.strip()\n",
    "    except:\n",
    "        j_company = np.nan\n",
    "    return j_company\n",
    "\n",
    "def extract_title_from_result(result):\n",
    "    try:\n",
    "        j_title = result.find('h2', attrs={'class':'jobTitle jobTitle-color-purple'}).text.strip()\n",
    "    except:\n",
    "        j_title = np.nan\n",
    "    return j_title\n",
    "\n",
    "def extract_salary_from_result(result):\n",
    "    try:\n",
    "        j_salary = result.find('div', attrs={'class':'metadata salary-snippet-container'}).text.strip()\n",
    "    except:\n",
    "        j_salary = np.nan\n",
    "    return j_salary"
   ]
  },
  {
   "cell_type": "code",
   "execution_count": 5,
   "metadata": {},
   "outputs": [
    {
     "name": "stdout",
     "output_type": "stream",
     "text": [
      "New York, NY\n",
      "Turner & Townsend\n",
      "Data Scientist, Game Analytics & Strategy\n",
      "$100,550 a year\n"
     ]
    }
   ],
   "source": [
    "print(extract_location_from_result(soup))\n",
    "print(extract_company_from_result(soup))\n",
    "print(extract_title_from_result(soup))\n",
    "print(extract_salary_from_result(soup))"
   ]
  },
  {
   "cell_type": "markdown",
   "metadata": {
    "focus": false,
    "id": "34070e89-9521-4b45-90c8-57a6599aac68"
   },
   "source": [
    "Now, to scale up our scraping, we need to accumulate more results. We can do this by examining the URL above.\n",
    "\n",
    "- \"http://www.indeed.com/jobs?q=data+scientist+%2420%2C000&l=New+York&start=10\"\n",
    "\n",
    "There are two query parameters here we can alter to collect more results, the `l=New+York` and the `start=10`. The first controls the location of the results (so we can try a different city). The second controls where in the results to start and gives 10 results (thus, we can keep incrementing by 10 to go further in the list)."
   ]
  },
  {
   "cell_type": "code",
   "execution_count": 6,
   "metadata": {
    "focus": false,
    "id": "04b0f9af-540e-402f-8292-81748707c676"
   },
   "outputs": [
    {
     "name": "stderr",
     "output_type": "stream",
     "text": [
      "100%|██████████| 2/2 [00:27<00:00, 13.65s/it]\n"
     ]
    }
   ],
   "source": [
    "url_template = 'https://uk.indeed.com/jobs?q={}&l={}&start={}'\n",
    "max_results_per_city = 1 # Set this to a high-value (5000) to generate more results. \n",
    "# Crawling more results, will also take much longer. First test your code on a small number of results and then expand.\n",
    "\n",
    "cities = ['London', 'Birmingham']\n",
    "\n",
    "roles = ['Data+Scientist','Data+Engineer']\n",
    "\n",
    "results = []\n",
    "\n",
    "headers = {\"User-Agent\": \"Mozilla/5.0 (Macintosh; Intel Mac OS X 10_15_7) AppleWebKit/537.36 (KHTML, like Gecko) Chrome/96.0.4664.110 Safari/537.36\"}\n",
    "#headers here has been used on/off to try to help scrape and avoid constant captcha\n",
    "\n",
    "for city in tqdm(cities):\n",
    "    for role in roles:\n",
    "        for start in range(0, max_results_per_city, 10):\n",
    "            # Grab the results from the request (as above)\n",
    "            r = requests.get(url_template.format(role, city, start), headers=headers)\n",
    "            soup = BeautifulSoup(r.text, 'html.parser')\n",
    "            # Append to the full set of results\n",
    "            results.append(soup)\n",
    "            # sleep function used to slow down the scrape and avoid getting blocked from the page\n",
    "            time.sleep(random.randint(3,7))\n",
    "            \n",
    "    # Outputting raw data for each city as csv\n",
    "    now = (datetime.datetime.now().strftime('%d%B_%I%M%p'))\n",
    "    filepathraw = f'/Users/garethharper/Desktop/GA_P2/DSI21-lessons/projects/project-4/raw/{now}.csv'\n",
    "    with open(filepathraw,'w',newline='') as f:\n",
    "        wr = csv.writer(f)\n",
    "        wr.writerows(results)\n",
    "    pass"
   ]
  },
  {
   "cell_type": "markdown",
   "metadata": {},
   "source": [
    "### Full list ok UK cities scraped, and roles"
   ]
  },
  {
   "cell_type": "code",
   "execution_count": 7,
   "metadata": {},
   "outputs": [],
   "source": [
    "# cities = ['London', 'Birmingham', 'Glasgow', 'Liverpool', 'Bristol', \n",
    "#           'Manchester', 'Sheffield', 'Leeds', 'Edinburgh', 'Leicester', \n",
    "#           'Coventry', 'Bradford', 'Cardiff', 'Belfast', 'Nottingham',\n",
    "#           'Kingston', 'Newcastle', 'Derby', 'Portsmouth', YOUR_CITY]\n",
    "\n",
    "# roles = ['Junior+Data+Scientist','Junior+Data+Engineer',\n",
    "#          'Junior+Data+Consultant','Junior+Data+Analyst']"
   ]
  },
  {
   "cell_type": "code",
   "execution_count": 8,
   "metadata": {},
   "outputs": [
    {
     "name": "stderr",
     "output_type": "stream",
     "text": [
      "100%|██████████| 4/4 [00:00<00:00, 13.12it/s]\n"
     ]
    }
   ],
   "source": [
    "jobs_indeed = pd.DataFrame(columns=['location','company','job_title','salary'])\n",
    "\n",
    "for result in tqdm(results):\n",
    "    for item in result.find_all('div', attrs={'class':'job_seen_beacon'}):\n",
    "        job_data = {'location': extract_location_from_result(item),\n",
    "                     'company': extract_company_from_result(item),\n",
    "                     'job_title': extract_title_from_result(item),\n",
    "                     'salary': extract_salary_from_result(item)}\n",
    "        jobs_indeed = jobs_indeed.append(job_data, ignore_index=True)\n",
    "        \n",
    "        # Outputting df formatted data to csv\n",
    "        filepathdf = f'/Users/garethharper/Desktop/GA_P2/DSI21-lessons/projects/project-4/df/{now}.csv'\n",
    "        jobs_indeed.to_csv(filepathdf, index=False, header=['location','company','job_title','salary'])"
   ]
  },
  {
   "cell_type": "code",
   "execution_count": 9,
   "metadata": {},
   "outputs": [
    {
     "data": {
      "text/html": [
       "<div>\n",
       "<style scoped>\n",
       "    .dataframe tbody tr th:only-of-type {\n",
       "        vertical-align: middle;\n",
       "    }\n",
       "\n",
       "    .dataframe tbody tr th {\n",
       "        vertical-align: top;\n",
       "    }\n",
       "\n",
       "    .dataframe thead th {\n",
       "        text-align: right;\n",
       "    }\n",
       "</style>\n",
       "<table border=\"1\" class=\"dataframe\">\n",
       "  <thead>\n",
       "    <tr style=\"text-align: right;\">\n",
       "      <th></th>\n",
       "      <th>location</th>\n",
       "      <th>company</th>\n",
       "      <th>job_title</th>\n",
       "      <th>salary</th>\n",
       "    </tr>\n",
       "  </thead>\n",
       "  <tbody>\n",
       "    <tr>\n",
       "      <th>0</th>\n",
       "      <td>Temporarily Remote in London</td>\n",
       "      <td>Pythia Sports</td>\n",
       "      <td>Data Scientist (Football)</td>\n",
       "      <td>NaN</td>\n",
       "    </tr>\n",
       "    <tr>\n",
       "      <th>1</th>\n",
       "      <td>Temporarily Remote in London</td>\n",
       "      <td>Pythia Sports</td>\n",
       "      <td>Data Scientist (Cricket)</td>\n",
       "      <td>NaN</td>\n",
       "    </tr>\n",
       "    <tr>\n",
       "      <th>2</th>\n",
       "      <td>Remote in London</td>\n",
       "      <td>Satalia</td>\n",
       "      <td>NaN</td>\n",
       "      <td>NaN</td>\n",
       "    </tr>\n",
       "    <tr>\n",
       "      <th>3</th>\n",
       "      <td>Remote in London</td>\n",
       "      <td>Simply Business</td>\n",
       "      <td>NaN</td>\n",
       "      <td>£60,000 - £75,000 a year</td>\n",
       "    </tr>\n",
       "    <tr>\n",
       "      <th>4</th>\n",
       "      <td>Hybrid remote in London</td>\n",
       "      <td>Lightricks</td>\n",
       "      <td>NaN</td>\n",
       "      <td>£80,000 - £100,000 a year</td>\n",
       "    </tr>\n",
       "  </tbody>\n",
       "</table>\n",
       "</div>"
      ],
      "text/plain": [
       "                       location          company                  job_title  \\\n",
       "0  Temporarily Remote in London    Pythia Sports  Data Scientist (Football)   \n",
       "1  Temporarily Remote in London    Pythia Sports   Data Scientist (Cricket)   \n",
       "2              Remote in London          Satalia                        NaN   \n",
       "3              Remote in London  Simply Business                        NaN   \n",
       "4       Hybrid remote in London       Lightricks                        NaN   \n",
       "\n",
       "                      salary  \n",
       "0                        NaN  \n",
       "1                        NaN  \n",
       "2                        NaN  \n",
       "3   £60,000 - £75,000 a year  \n",
       "4  £80,000 - £100,000 a year  "
      ]
     },
     "execution_count": 9,
     "metadata": {},
     "output_type": "execute_result"
    }
   ],
   "source": [
    "jobs_indeed.head()"
   ]
  },
  {
   "cell_type": "code",
   "execution_count": 10,
   "metadata": {},
   "outputs": [
    {
     "name": "stdout",
     "output_type": "stream",
     "text": [
      "<class 'pandas.core.frame.DataFrame'>\n",
      "RangeIndex: 49 entries, 0 to 48\n",
      "Data columns (total 4 columns):\n",
      " #   Column     Non-Null Count  Dtype \n",
      "---  ------     --------------  ----- \n",
      " 0   location   49 non-null     object\n",
      " 1   company    49 non-null     object\n",
      " 2   job_title  31 non-null     object\n",
      " 3   salary     13 non-null     object\n",
      "dtypes: object(4)\n",
      "memory usage: 1.7+ KB\n"
     ]
    }
   ],
   "source": [
    "jobs_indeed.info()"
   ]
  },
  {
   "cell_type": "markdown",
   "metadata": {
    "focus": false,
    "id": "243e949e-2742-40af-872e-fec475fd306c"
   },
   "source": [
    "### Load in the the data of scraped salaries"
   ]
  },
  {
   "cell_type": "code",
   "execution_count": 11,
   "metadata": {
    "focus": false,
    "id": "588f9845-6143-4bcc-bfd1-85d45b79303d"
   },
   "outputs": [],
   "source": [
    "path = r'/Users/garethharper/Desktop/GA_P2/DSI21-lessons/projects/project-4/df'\n",
    "all_files = glob.glob(path + \"/*.csv\")\n",
    "\n",
    "li = []\n",
    "\n",
    "for filename in all_files:\n",
    "    df = pd.read_csv(filename, index_col=None)\n",
    "    li.append(df)\n",
    "\n",
    "df_jobs = pd.concat(li, axis=0, ignore_index=True)"
   ]
  },
  {
   "cell_type": "code",
   "execution_count": 12,
   "metadata": {},
   "outputs": [
    {
     "data": {
      "text/html": [
       "<div>\n",
       "<style scoped>\n",
       "    .dataframe tbody tr th:only-of-type {\n",
       "        vertical-align: middle;\n",
       "    }\n",
       "\n",
       "    .dataframe tbody tr th {\n",
       "        vertical-align: top;\n",
       "    }\n",
       "\n",
       "    .dataframe thead th {\n",
       "        text-align: right;\n",
       "    }\n",
       "</style>\n",
       "<table border=\"1\" class=\"dataframe\">\n",
       "  <thead>\n",
       "    <tr style=\"text-align: right;\">\n",
       "      <th></th>\n",
       "      <th>location</th>\n",
       "      <th>company</th>\n",
       "      <th>job_title</th>\n",
       "      <th>salary</th>\n",
       "    </tr>\n",
       "  </thead>\n",
       "  <tbody>\n",
       "    <tr>\n",
       "      <th>0</th>\n",
       "      <td>London SW1V 1PZ•Temporarily Remote</td>\n",
       "      <td>Pythia Sports</td>\n",
       "      <td>NaN</td>\n",
       "      <td>NaN</td>\n",
       "    </tr>\n",
       "    <tr>\n",
       "      <th>1</th>\n",
       "      <td>London•Remote</td>\n",
       "      <td>Simply Business</td>\n",
       "      <td>NaN</td>\n",
       "      <td>£60,000 - £75,000 a year</td>\n",
       "    </tr>\n",
       "    <tr>\n",
       "      <th>2</th>\n",
       "      <td>London</td>\n",
       "      <td>ByteDance</td>\n",
       "      <td>Machine Learning Engineer - Recommendation</td>\n",
       "      <td>£33,894 - £92,797 a year</td>\n",
       "    </tr>\n",
       "    <tr>\n",
       "      <th>3</th>\n",
       "      <td>London•Remote</td>\n",
       "      <td>Exposed Solutions Limited</td>\n",
       "      <td>NaN</td>\n",
       "      <td>NaN</td>\n",
       "    </tr>\n",
       "    <tr>\n",
       "      <th>4</th>\n",
       "      <td>London</td>\n",
       "      <td>The Commonwealth</td>\n",
       "      <td>NaN</td>\n",
       "      <td>NaN</td>\n",
       "    </tr>\n",
       "  </tbody>\n",
       "</table>\n",
       "</div>"
      ],
      "text/plain": [
       "                             location                    company  \\\n",
       "0  London SW1V 1PZ•Temporarily Remote              Pythia Sports   \n",
       "1                       London•Remote            Simply Business   \n",
       "2                              London                  ByteDance   \n",
       "3                       London•Remote  Exposed Solutions Limited   \n",
       "4                              London           The Commonwealth   \n",
       "\n",
       "                                    job_title                    salary  \n",
       "0                                         NaN                       NaN  \n",
       "1                                         NaN  £60,000 - £75,000 a year  \n",
       "2  Machine Learning Engineer - Recommendation  £33,894 - £92,797 a year  \n",
       "3                                         NaN                       NaN  \n",
       "4                                         NaN                       NaN  "
      ]
     },
     "execution_count": 12,
     "metadata": {},
     "output_type": "execute_result"
    }
   ],
   "source": [
    "df_jobs.head()"
   ]
  },
  {
   "cell_type": "code",
   "execution_count": 13,
   "metadata": {},
   "outputs": [
    {
     "name": "stdout",
     "output_type": "stream",
     "text": [
      "<class 'pandas.core.frame.DataFrame'>\n",
      "RangeIndex: 59459 entries, 0 to 59458\n",
      "Data columns (total 4 columns):\n",
      " #   Column     Non-Null Count  Dtype \n",
      "---  ------     --------------  ----- \n",
      " 0   location   59459 non-null  object\n",
      " 1   company    59388 non-null  object\n",
      " 2   job_title  48351 non-null  object\n",
      " 3   salary     23716 non-null  object\n",
      "dtypes: object(4)\n",
      "memory usage: 1.8+ MB\n"
     ]
    }
   ],
   "source": [
    "df_jobs.info()"
   ]
  },
  {
   "cell_type": "code",
   "execution_count": 14,
   "metadata": {},
   "outputs": [
    {
     "data": {
      "text/plain": [
       "location         0\n",
       "company         71\n",
       "job_title    11108\n",
       "salary       35743\n",
       "dtype: int64"
      ]
     },
     "execution_count": 14,
     "metadata": {},
     "output_type": "execute_result"
    }
   ],
   "source": [
    "df_jobs.isnull().sum()"
   ]
  },
  {
   "cell_type": "code",
   "execution_count": 15,
   "metadata": {},
   "outputs": [],
   "source": [
    "# remove all rows with no entries\n",
    "df_jobs = df_jobs.dropna()"
   ]
  },
  {
   "cell_type": "code",
   "execution_count": 16,
   "metadata": {},
   "outputs": [
    {
     "name": "stdout",
     "output_type": "stream",
     "text": [
      "Hour jobs: (703, 4)\n",
      "Day jobs: (649, 4)\n",
      "Week jobs: (25, 4)\n",
      "Month jobs: (8, 4)\n",
      "Year jobs: (15806, 4)\n"
     ]
    }
   ],
   "source": [
    "# only consider annual salaries (i.e. not hourly, daily, weekly or monthly)\n",
    "\n",
    "# hour-long jobs\n",
    "print('Hour jobs:', df_jobs[df_jobs.salary.str.contains('hour')].shape)\n",
    "# day-long jobs\n",
    "print('Day jobs:', df_jobs[df_jobs.salary.str.contains('day')].shape)\n",
    "# week-long jobs\n",
    "print('Week jobs:', df_jobs[df_jobs.salary.str.contains('week')].shape)\n",
    "# month-long jobs\n",
    "print('Month jobs:', df_jobs[df_jobs.salary.str.contains('month')].shape)\n",
    "# year-long jobs\n",
    "print('Year jobs:', df_jobs[df_jobs.salary.str.contains('year')].shape)\n",
    "\n",
    "# now filtering for only those containing annual salary\n",
    "df_jobs = df_jobs[df_jobs.salary.str.contains('year')]"
   ]
  },
  {
   "cell_type": "code",
   "execution_count": 17,
   "metadata": {},
   "outputs": [],
   "source": [
    "# remove duplicate entries\n",
    "df_jobs.drop_duplicates(inplace=True)"
   ]
  },
  {
   "cell_type": "code",
   "execution_count": 18,
   "metadata": {},
   "outputs": [
    {
     "data": {
      "text/plain": [
       "(2254, 4)"
      ]
     },
     "execution_count": 18,
     "metadata": {},
     "output_type": "execute_result"
    }
   ],
   "source": [
    "df_jobs.shape"
   ]
  },
  {
   "cell_type": "code",
   "execution_count": 19,
   "metadata": {},
   "outputs": [],
   "source": [
    "# some locations may be masking duplicates if the same job posting was pulled\n",
    "# with a slightly different location.\n",
    "# Therefore I will drop duplicates on all columns except location.\n",
    "df_jobs.drop_duplicates(subset=['company','job_title','salary'], inplace=True)"
   ]
  },
  {
   "cell_type": "code",
   "execution_count": 20,
   "metadata": {},
   "outputs": [
    {
     "data": {
      "text/plain": [
       "(2145, 4)"
      ]
     },
     "execution_count": 20,
     "metadata": {},
     "output_type": "execute_result"
    }
   ],
   "source": [
    "df_jobs.shape\n",
    "# this value is slightly less than the previous one so my hypothesis was correct"
   ]
  },
  {
   "cell_type": "markdown",
   "metadata": {},
   "source": [
    "#### Function takes a salary string and converts it to a number, averaging a salary range if necessary."
   ]
  },
  {
   "cell_type": "code",
   "execution_count": 21,
   "metadata": {},
   "outputs": [],
   "source": [
    "def string_to_int(x):\n",
    "    \"\"\"Converts salary string to an integer, and averages if salary is a range\"\"\"\n",
    "    # remove special characters:\n",
    "    x = re.sub('[£,.a-zA-Z\\s]','', x)\n",
    "    # return value or average value\n",
    "    try:\n",
    "        lower, upper = x.split(\"-\")\n",
    "        x = (int(lower) + int(upper))/2\n",
    "    except:\n",
    "        x = x\n",
    "    return x"
   ]
  },
  {
   "cell_type": "code",
   "execution_count": 22,
   "metadata": {},
   "outputs": [],
   "source": [
    "df_jobs['salary'] = df_jobs.salary.apply(string_to_int)"
   ]
  },
  {
   "cell_type": "code",
   "execution_count": 23,
   "metadata": {},
   "outputs": [
    {
     "data": {
      "text/html": [
       "<div>\n",
       "<style scoped>\n",
       "    .dataframe tbody tr th:only-of-type {\n",
       "        vertical-align: middle;\n",
       "    }\n",
       "\n",
       "    .dataframe tbody tr th {\n",
       "        vertical-align: top;\n",
       "    }\n",
       "\n",
       "    .dataframe thead th {\n",
       "        text-align: right;\n",
       "    }\n",
       "</style>\n",
       "<table border=\"1\" class=\"dataframe\">\n",
       "  <thead>\n",
       "    <tr style=\"text-align: right;\">\n",
       "      <th></th>\n",
       "      <th>location</th>\n",
       "      <th>company</th>\n",
       "      <th>job_title</th>\n",
       "      <th>salary</th>\n",
       "    </tr>\n",
       "  </thead>\n",
       "  <tbody>\n",
       "    <tr>\n",
       "      <th>2</th>\n",
       "      <td>London</td>\n",
       "      <td>ByteDance</td>\n",
       "      <td>Machine Learning Engineer - Recommendation</td>\n",
       "      <td>63345.5</td>\n",
       "    </tr>\n",
       "    <tr>\n",
       "      <th>5</th>\n",
       "      <td>London SE1 0AT</td>\n",
       "      <td>Fable Data</td>\n",
       "      <td>Data Scientist</td>\n",
       "      <td>55000</td>\n",
       "    </tr>\n",
       "    <tr>\n",
       "      <th>18</th>\n",
       "      <td>London</td>\n",
       "      <td>Karshare</td>\n",
       "      <td>Business Intelligence Engineer</td>\n",
       "      <td>45000</td>\n",
       "    </tr>\n",
       "    <tr>\n",
       "      <th>19</th>\n",
       "      <td>London</td>\n",
       "      <td>Graduate Recruitment Bureau</td>\n",
       "      <td>Graduate Technical Analyst and Support Engineer</td>\n",
       "      <td>26000</td>\n",
       "    </tr>\n",
       "    <tr>\n",
       "      <th>35</th>\n",
       "      <td>Birmingham</td>\n",
       "      <td>Openreach</td>\n",
       "      <td>Data Scientist</td>\n",
       "      <td>65000</td>\n",
       "    </tr>\n",
       "  </tbody>\n",
       "</table>\n",
       "</div>"
      ],
      "text/plain": [
       "          location                      company  \\\n",
       "2           London                    ByteDance   \n",
       "5   London SE1 0AT                   Fable Data   \n",
       "18          London                     Karshare   \n",
       "19          London  Graduate Recruitment Bureau   \n",
       "35      Birmingham                    Openreach   \n",
       "\n",
       "                                          job_title   salary  \n",
       "2        Machine Learning Engineer - Recommendation  63345.5  \n",
       "5                                    Data Scientist    55000  \n",
       "18                   Business Intelligence Engineer    45000  \n",
       "19  Graduate Technical Analyst and Support Engineer    26000  \n",
       "35                                   Data Scientist    65000  "
      ]
     },
     "execution_count": 23,
     "metadata": {},
     "output_type": "execute_result"
    }
   ],
   "source": [
    "df_jobs.head()"
   ]
  },
  {
   "cell_type": "code",
   "execution_count": 24,
   "metadata": {},
   "outputs": [
    {
     "data": {
      "text/plain": [
       "location     0\n",
       "company      0\n",
       "job_title    0\n",
       "salary       0\n",
       "dtype: int64"
      ]
     },
     "execution_count": 24,
     "metadata": {},
     "output_type": "execute_result"
    }
   ],
   "source": [
    "df_jobs.isnull().sum()"
   ]
  },
  {
   "cell_type": "code",
   "execution_count": 25,
   "metadata": {},
   "outputs": [
    {
     "name": "stdout",
     "output_type": "stream",
     "text": [
      "<class 'pandas.core.frame.DataFrame'>\n",
      "Int64Index: 2145 entries, 2 to 59021\n",
      "Data columns (total 4 columns):\n",
      " #   Column     Non-Null Count  Dtype \n",
      "---  ------     --------------  ----- \n",
      " 0   location   2145 non-null   object\n",
      " 1   company    2145 non-null   object\n",
      " 2   job_title  2145 non-null   object\n",
      " 3   salary     2145 non-null   int64 \n",
      "dtypes: int64(1), object(3)\n",
      "memory usage: 83.8+ KB\n"
     ]
    }
   ],
   "source": [
    "# check salary dtype is int\n",
    "df_jobs['salary'] = df_jobs['salary'].astype(int)\n",
    "\n",
    "df_jobs.info()"
   ]
  },
  {
   "cell_type": "markdown",
   "metadata": {
    "focus": false,
    "id": "c7631f51-07f2-4c79-a093-3e9bc7849a48"
   },
   "source": [
    "### We want to predict a binary variable - whether the salary was low or high. Compute the median salary and create a new binary variable that is true when the salary is high (above the median).\n",
    "\n",
    "We could also perform Linear Regression (or any regression) to predict the salary value here. Instead, we are going to convert this into a _binary_ classification problem, by predicting two classes, HIGH vs LOW salary.\n",
    "\n",
    "While performing regression may be better, performing classification may help remove some of the noise of the extreme salaries. We don't have to choose the `median` as the splitting point - we could also split on the 75th percentile or any other reasonable breaking point."
   ]
  },
  {
   "cell_type": "code",
   "execution_count": 26,
   "metadata": {},
   "outputs": [],
   "source": [
    "median_salary = df_jobs['salary'].median()\n",
    "df_jobs['high_salary'] = [1 if v > median_salary else 0 for v in df_jobs['salary']]"
   ]
  },
  {
   "cell_type": "markdown",
   "metadata": {
    "focus": false,
    "id": "a7afb2c0-d41e-4779-8216-91cd8dd4473f"
   },
   "source": [
    "#### Thought experiment: What is the baseline accuracy for this model?"
   ]
  },
  {
   "cell_type": "markdown",
   "metadata": {},
   "source": [
    "The median values implies half the values are above the median and half the values are below the median (i.e. 50% above and 50% below).\n",
    "\n",
    "There is an equal chance the salary is either high or low.\n",
    "\n",
    "The baseline accuracy is therefore 50%. "
   ]
  },
  {
   "cell_type": "code",
   "execution_count": 27,
   "metadata": {},
   "outputs": [
    {
     "data": {
      "text/plain": [
       "0    0.500233\n",
       "1    0.499767\n",
       "Name: high_salary, dtype: float64"
      ]
     },
     "execution_count": 27,
     "metadata": {},
     "output_type": "execute_result"
    }
   ],
   "source": [
    "# code would be something like this\n",
    "df_jobs.high_salary.value_counts(normalize=True)"
   ]
  },
  {
   "cell_type": "markdown",
   "metadata": {},
   "source": [
    "Before proceeding let me investigate my data further:"
   ]
  },
  {
   "cell_type": "code",
   "execution_count": 28,
   "metadata": {},
   "outputs": [
    {
     "data": {
      "text/html": [
       "<div>\n",
       "<style scoped>\n",
       "    .dataframe tbody tr th:only-of-type {\n",
       "        vertical-align: middle;\n",
       "    }\n",
       "\n",
       "    .dataframe tbody tr th {\n",
       "        vertical-align: top;\n",
       "    }\n",
       "\n",
       "    .dataframe thead th {\n",
       "        text-align: right;\n",
       "    }\n",
       "</style>\n",
       "<table border=\"1\" class=\"dataframe\">\n",
       "  <thead>\n",
       "    <tr style=\"text-align: right;\">\n",
       "      <th></th>\n",
       "      <th>salary</th>\n",
       "      <th>high_salary</th>\n",
       "    </tr>\n",
       "  </thead>\n",
       "  <tbody>\n",
       "    <tr>\n",
       "      <th>count</th>\n",
       "      <td>2145.000000</td>\n",
       "      <td>2145.000000</td>\n",
       "    </tr>\n",
       "    <tr>\n",
       "      <th>mean</th>\n",
       "      <td>40070.171096</td>\n",
       "      <td>0.499767</td>\n",
       "    </tr>\n",
       "    <tr>\n",
       "      <th>std</th>\n",
       "      <td>17451.532814</td>\n",
       "      <td>0.500117</td>\n",
       "    </tr>\n",
       "    <tr>\n",
       "      <th>min</th>\n",
       "      <td>7826.000000</td>\n",
       "      <td>0.000000</td>\n",
       "    </tr>\n",
       "    <tr>\n",
       "      <th>25%</th>\n",
       "      <td>27500.000000</td>\n",
       "      <td>0.000000</td>\n",
       "    </tr>\n",
       "    <tr>\n",
       "      <th>50%</th>\n",
       "      <td>36016.000000</td>\n",
       "      <td>0.000000</td>\n",
       "    </tr>\n",
       "    <tr>\n",
       "      <th>75%</th>\n",
       "      <td>50000.000000</td>\n",
       "      <td>1.000000</td>\n",
       "    </tr>\n",
       "    <tr>\n",
       "      <th>max</th>\n",
       "      <td>121830.000000</td>\n",
       "      <td>1.000000</td>\n",
       "    </tr>\n",
       "  </tbody>\n",
       "</table>\n",
       "</div>"
      ],
      "text/plain": [
       "              salary  high_salary\n",
       "count    2145.000000  2145.000000\n",
       "mean    40070.171096     0.499767\n",
       "std     17451.532814     0.500117\n",
       "min      7826.000000     0.000000\n",
       "25%     27500.000000     0.000000\n",
       "50%     36016.000000     0.000000\n",
       "75%     50000.000000     1.000000\n",
       "max    121830.000000     1.000000"
      ]
     },
     "execution_count": 28,
     "metadata": {},
     "output_type": "execute_result"
    }
   ],
   "source": [
    "df_jobs.describe()"
   ]
  },
  {
   "cell_type": "code",
   "execution_count": 29,
   "metadata": {},
   "outputs": [
    {
     "data": {
      "image/png": "[encoded data removed]",
      "text/plain": [
       "<Figure size 720x360 with 1 Axes>"
      ]
     },
     "metadata": {
      "needs_background": "light"
     },
     "output_type": "display_data"
    }
   ],
   "source": [
    "# Salary distribution plot\n",
    "plt.figure(figsize=[10,5])\n",
    "sns.histplot(df_jobs['salary'])\n",
    "\n",
    "plt.title('Salary Distribution')\n",
    "plt.xlabel('Annual Salary (GBP)')\n",
    "plt.ylabel('Count')\n",
    "\n",
    "plt.savefig(\"images/01 Salary Distribution Histogram.png\", bbox_inches=\"tight\")"
   ]
  },
  {
   "cell_type": "code",
   "execution_count": 30,
   "metadata": {},
   "outputs": [
    {
     "data": {
      "text/plain": [
       "36016.0"
      ]
     },
     "execution_count": 30,
     "metadata": {},
     "output_type": "execute_result"
    }
   ],
   "source": [
    "# discuss graph\n",
    "median_salary"
   ]
  },
  {
   "cell_type": "markdown",
   "metadata": {
    "focus": false,
    "id": "4fb29de2-5b98-474c-a4ad-5170b72b9aea"
   },
   "source": [
    "### Create a classification model to predict High/Low salary. \n",
    "\n",
    "\n",
    "- Start by ONLY using the location as a feature.\n",
    "- Use at least two different classifiers you find suitable.\n",
    "- Remember that scaling your features might be necessary.\n",
    "- Display the coefficients/feature importances and write a short summary of what they mean.\n",
    "- Create a few new variables in your dataframe to represent interesting features of a job title (e.g. whether 'Senior' or 'Manager' is in the title).\n",
    "- Incorporate other text features from the title or summary that you believe will predict the salary.\n",
    "- Then build new classification models including also those features. Do they add any value?\n",
    "- Tune your models by testing parameter ranges, regularization strengths, etc. Discuss how that affects your models.\n",
    "- Discuss model coefficients or feature importances as applicable."
   ]
  },
  {
   "cell_type": "markdown",
   "metadata": {},
   "source": [
    "##### 1. Start by ONLY using the location as a feature."
   ]
  },
  {
   "cell_type": "code",
   "execution_count": 31,
   "metadata": {},
   "outputs": [
    {
     "data": {
      "text/plain": [
       "array(['London', 'London SE1 0AT', 'Birmingham', 'Birmingham B2',\n",
       "       'Stafford', 'Worcester•Remote', 'Remote in London',\n",
       "       'London+5 locations', 'London•Remote', 'London•Temporarily Remote',\n",
       "       'London WC2H•Remote', 'London W1K', 'London W1B 5AN',\n",
       "       'London SW1Y•Temporarily Remote', 'London EC4Y',\n",
       "       'London+1 location', 'London SW19 4JS', 'London N8 8PL•Remote',\n",
       "       'London E1 4DG', 'London W2 6LA', 'London EC2A 4EG•Remote',\n",
       "       'London EC1V', 'London SE1 3LE•Remote', 'London EC4R',\n",
       "       'London EC1V 9BJ', 'London EC4V 4EG',\n",
       "       'London SW9 6DE•Temporarily Remote', 'London SE1 4YB',\n",
       "       'London E14 5RE•Temporarily Remote', 'London EC3R',\n",
       "       'London SE1 7QP•Temporarily Remote', 'London SW1Y 6HD',\n",
       "       'London E14', 'London SE1 6LH', 'Croydon CR9', 'Victoria',\n",
       "       'North London', 'London SW1E 5NN•Remote', 'London WC2H',\n",
       "       'London EC3V 9DU', 'Henley in Arden', 'Leamington Spa',\n",
       "       'Atherstone CV9 2SQ', 'Warwick CV34 6DA', 'Coventry+1 location',\n",
       "       'Birmingham•Remote', 'Birmingham B1 1BD', 'Birmingham B6 6AR',\n",
       "       'West Midlands•Remote', 'Birmingham B1 3HH•Remote',\n",
       "       'Birmingham B45', 'West Midlands', 'Stafford•Remote',\n",
       "       'West Bromwich', 'Sutton Coldfield B73 5BA', 'Birmingham B26',\n",
       "       'Wolverhampton WV1', 'United Kingdom', 'Birmingham B4 7UD',\n",
       "       'Walsall•Remote', 'Solihull', 'Cannock•Remote',\n",
       "       'Birmingham B4 6AR', 'Coventry CV3 4FL', 'Kenilworth CV8 2LS',\n",
       "       'Birmingham B37 7YE•Remote', 'Birmingham B45 9PZ',\n",
       "       'Birmingham B1 3RB•Remote', 'Birmingham•Temporarily Remote',\n",
       "       'England', 'Birmingham B12•Temporarily Remote',\n",
       "       'Sutton Coldfield B75 5BL•Temporarily Remote', 'Warwick',\n",
       "       'Stratford-upon-Avon', 'Warwick CV34 6DA•Remote',\n",
       "       'Walsall WS1 1AB', 'Worcester WR5', 'Tamworth B78 1SE•Remote',\n",
       "       'Birmingham B3 3HN•Temporarily Remote', 'Coventry CV2', 'Cannock',\n",
       "       'Redditch+1 location', 'Oldbury', 'Wolverhampton WV10 6TD',\n",
       "       'Coventry', 'Walsall WS1 1NS•Remote', 'Minworth', 'Glasgow',\n",
       "       'Stirling•Remote', 'Glasgow G40 2QW•Temporarily Remote',\n",
       "       'Glasgow•Temporarily Remote', 'Glasgow G2 1RW•Temporarily Remote',\n",
       "       'Glasgow•Remote', 'Glasgow G2•Temporarily Remote',\n",
       "       'Glasgow G2 4BG', 'Glasgow G4 9TH•Remote', 'Glasgow G5',\n",
       "       'Maryhill G20 8YE', 'East Kilbride G74•Temporarily Remote',\n",
       "       'Glasgow G14 0QP', 'Glasgow G2', 'Glasgow G3 7UY',\n",
       "       'Glasgow G14 0QP•Remote', 'Bellshill', 'Motherwell', 'Hillington',\n",
       "       'Quarter', 'Glasgow G4 0JY', 'Liverpool', 'Liverpool•Remote',\n",
       "       'Bootle', 'Wigan WN1 1XX', 'Chester•Remote', 'Warrington',\n",
       "       'Liverpool L3', 'England•Remote', 'Holywell', 'Liverpool L23',\n",
       "       'Cheshire', 'Manchester M41 6QT•Remote', 'Chester',\n",
       "       'Liverpool L9 7AL', 'Prescot L35 5DR+1 location',\n",
       "       'Warrington WA1 2HZ', 'Lytham FY8 2NA•Remote', 'Widnes WA8',\n",
       "       'Merseyside', 'Prescot', 'Birkenhead', 'Runcorn',\n",
       "       'Northwich CW9•Temporarily Remote', 'Wirral', 'Neston',\n",
       "       'Liverpool L12 2AP', 'Warrington WA3 7QU', 'Wigan WN3 5DX',\n",
       "       'County•Remote', 'Wigan WN2 5NG', 'Chorley', 'Woolton L25 7RG',\n",
       "       'Chester CH1 2LF', 'Leigh WN7 1HS', 'Buckshaw Village PR7 7NA',\n",
       "       'Manchester M46 0SY', 'Fylde•Remote', 'North West•Remote',\n",
       "       'Liverpool L3 4BL', 'Bolton BL6 6PQ', 'Liverpool L1 5AY',\n",
       "       'St Helens WA10 3HG',\n",
       "       'Winsford North and East CW7 3RB•Temporarily Remote',\n",
       "       'St. Asaph LL17 0RS', 'Bootle L30 4YD', 'Bolton BL4 0JR',\n",
       "       'St Helens', 'Chester CH1 3BQ', 'Warrington WA3 6BA',\n",
       "       'Wrexham LL12 0PB', 'Winsford', 'Chester CH1',\n",
       "       'Warrington WA1 1HL•Remote', 'Irlam', 'Birchwood WA3 7PQ',\n",
       "       'Bolton BL6 4SD', 'Chester•Temporarily Remote', 'Bristol',\n",
       "       'Bristol BS32•Remote', 'Bristol BS16 7AJ',\n",
       "       'Bristol BS1 6QA•Remote', 'South West', 'Bristol BS8 1QU',\n",
       "       'Bristol BS34 8RB•Remote', 'Bristol BS1 6NL', 'Bath',\n",
       "       'Newport NP10 8FZ', 'Bristol BS1 4BA', 'Bristol•Remote',\n",
       "       'Bath BA1 3NG', 'Bristol BS16•Temporarily Remote',\n",
       "       'Bristol BS16 1EJ', 'Bristol+1 location', 'Bristol BS1 4QS•Remote',\n",
       "       'United Kingdom•Remote', 'Bristol BS10 5NB', 'Bristol BS1 4NT',\n",
       "       'Newport', 'Corsham', 'Warminster', 'Bristol BS16 7LB',\n",
       "       'Bristol BS1•Remote', 'Bristol BS16 7FN•Remote', 'Bristol BS13',\n",
       "       'Clifton', 'Bristol BS16 7FN', 'Bristol BS1', 'Hill',\n",
       "       'Corsham•Temporarily Remote', 'Cwmbran NP44 3AB',\n",
       "       'Chippenham•Temporarily Remote', 'Salford M50•Temporarily Remote',\n",
       "       'Manchester M1', 'Manchester M60', 'Manchester',\n",
       "       'Manchester•Temporarily Remote', 'Manchester M13 9PL',\n",
       "       'Manchester•Remote', 'Wilmslow', 'Wilmslow SK9 5AF',\n",
       "       'Salford Quays', 'Altrincham', 'Stockport SK4',\n",
       "       'Manchester M1 1FN•Temporarily Remote',\n",
       "       'Manchester M1•Temporarily Remote', 'Ashton-Under-Lyne OL6 9RW',\n",
       "       'Salford', 'Manchester M1+1 location', 'Manchester M2',\n",
       "       'Manchester M15', 'Halifax', 'Manchester M20 2UR', 'Salford M50',\n",
       "       'Bolton•Temporarily Remote', 'Macclesfield SK10', 'Manchester M16',\n",
       "       'Manchester M60 0AG', 'Manchester M12 6JH',\n",
       "       'Stockport•Temporarily Remote', 'Bury BL9 8RR', 'Salford M50 1RD',\n",
       "       'Manchester M32', 'Manchester M1 3BE', 'Ashton-Under-Lyne OL6 7SR',\n",
       "       'Huddersfield HD1 6NN', 'Stockport SK1 3SW+1 location',\n",
       "       'Chadderton•Remote', 'Manchester M1•Remote', 'Sheffield',\n",
       "       'Sheffield•Remote', 'Sheffield S10 2LR', 'Sheffield S1 4QZ',\n",
       "       'Sheffield S5 7AU', 'Sheffield S10 2HB', 'Sheffield S6 3BR',\n",
       "       'Worksop S81 0BD', 'Nottinghamshire•Remote', 'Rotherham S63 7GE',\n",
       "       'Sheffield S13 9LQ', 'Barnsley S75 3DP', 'Chesterfield S42 7JE',\n",
       "       'Sheffield S1 2BJ', 'Sheffield S20 7PJ', 'Nottinghamshire',\n",
       "       'Derbyshire•Remote', 'Barnsley S75 1JL', 'Brighouse HD6 1QF',\n",
       "       'Derbyshire', 'Alfreton DE55', 'West Yorkshire',\n",
       "       'Rotherham S63 9BS', 'Doncaster', 'Pontefract', 'Sheffield S1 2GQ',\n",
       "       'Wakefield WF2 0XE•Temporarily Remote', 'Chesterfield S44 5BL',\n",
       "       'Wakefield', 'Doncaster DN4 5JQ', 'Wakefield WF5 9TJ',\n",
       "       'Worksop•Remote', 'Barnsley', 'Wakefield WF3',\n",
       "       'Huddersfield HD2 1UA', 'Bradford', 'Leeds', 'Leeds•Remote',\n",
       "       'York', 'Morley', 'University of York', 'Leeds LS28 5QS',\n",
       "       'Leeds LS12 2PY•Remote', 'Leeds LS16 6QG',\n",
       "       'Bradford•Temporarily Remote', 'Leeds LS15', 'Leeds LS15 8GB',\n",
       "       'Huddersfield', 'Leeds LS1', 'Pudsey', 'Skipton', 'Keighley',\n",
       "       'Harrogate HG1 1JD', 'Leeds LS1 5ES', 'Leeds LS2',\n",
       "       'Bradford•Remote', 'York•Remote', 'Selby', 'York YO1',\n",
       "       'Leeds•Temporarily Remote', 'Keighley BD20 6TD', 'Leeds LS3 1AA',\n",
       "       'Skipton•Temporarily Remote', 'Leeds LS28 6AT', 'Edinburgh',\n",
       "       'Edinburgh EH3 9QG•Remote', 'Edinburgh•Remote',\n",
       "       'Edinburgh EH10 5BT', 'Grange', 'Grangemouth FK3',\n",
       "       'Edinburgh•Temporarily Remote', 'Livingston', 'Kirkcaldy KY1 2YX',\n",
       "       'Edinburgh EH6 7EL', 'Tranent EH33 2NE', 'Edinburgh EH12 9EB',\n",
       "       'Corby•Remote', 'Derby', 'Nottingham', 'Nottingham•Remote',\n",
       "       'Leicester LE2 2FB•Temporarily Remote', 'Leicester',\n",
       "       'Leicester•Remote', 'Leicester+1 location•Remote',\n",
       "       'Market Harborough LE16 7FQ', 'Leicestershire•Remote',\n",
       "       'Derby•Remote', 'Leicester LE19 1SU', 'Leicester LE4 1AW',\n",
       "       'Nuneaton CV10 7DJ', 'Tamworth', 'Leicestershire',\n",
       "       'Burton-On-Trent', 'Burton-On-Trent•Remote',\n",
       "       'Leicester+1 location', 'Leicestershire•Temporarily Remote',\n",
       "       'Leicester LE19', 'Loughborough', 'Kettering+2 locations',\n",
       "       'Coventry CV1 2FJ', 'Rugby', 'Tamworth B77 5PN', 'Coventry•Remote',\n",
       "       'Atherstone', 'Ashby-De-La-Zouch', 'Leeds CV1 2WT',\n",
       "       'Nottingham NG1', 'Coventry CV5', 'Gaydon', 'Birmingham B37',\n",
       "       'Leamington Spa•Remote', 'Coventry CV4 8HS',\n",
       "       'Warwick CV34 5YA•Remote',\n",
       "       'Stratford-upon-Avon•Temporarily Remote', 'Oldham',\n",
       "       'Rochdale•Remote', 'Knaresborough', 'Shipley BD17•Remote',\n",
       "       'Nelson BB9 6RT', 'Cardiff', 'Cardiff•Remote',\n",
       "       'Cardiff CF10•Remote', 'Blackwood NP12 4AB•Remote',\n",
       "       'Bridgend CF33 6BX', 'Cardiff CF24', 'Badminton Ward', 'Pontypool',\n",
       "       'Monmouthshire', 'Weston-super-Mare', 'Cardiff+1 location',\n",
       "       'Bridgend', 'North Somerset', 'Bristol BS9 1EW',\n",
       "       'Cardiff CF10 4BZ•Temporarily Remote', 'Cardiff CF14 4HH',\n",
       "       'Cardiff•Temporarily Remote', 'Cardiff CF10 4LN•Remote',\n",
       "       'Mamhilad', 'Mountain Ash', 'Glamorgan', 'Bristol BS8',\n",
       "       'Belfast•Temporarily Remote', 'Belfast BT7 1NN', 'Belfast',\n",
       "       'Belfast•Remote', 'Belfast BT1', 'Belfast BT12 6SJ', 'Lisburn',\n",
       "       'Portadown', 'Bulwell+1 location', 'Hucknall', 'Colwick',\n",
       "       'Nottingham NG9 2AW', 'Nottingham+1 location', 'Mansfield',\n",
       "       'Nottingham NG2 7QP', 'Nottingham NG1 1LL', 'Grantham',\n",
       "       'Nottingham•Temporarily Remote', 'London W1W•Remote',\n",
       "       'West London•Remote', 'Kensington and Chelsea', 'London N11 1GN',\n",
       "       'London SW7 3BX', 'Wimbledon', 'London W4 5BE•Remote',\n",
       "       'London SE1 7SJ', 'Hounslow', 'West Drayton UB7 9FN',\n",
       "       'Isleworth•Temporarily Remote',\n",
       "       'Slough SL3 7AE•Temporarily Remote', 'Uxbridge',\n",
       "       'Staines-upon-Thames', 'London SW1V 2RS•Remote',\n",
       "       'Bracknell RG12 8YA', 'Gateshead', 'Sunderland',\n",
       "       'Tyne and Wear•Remote', 'Newcastle upon Tyne+3 locations',\n",
       "       'Newcastle upon Tyne', 'Newcastle upon Tyne•Remote', 'Durham',\n",
       "       'Newcastle upon Tyne+1 location', 'Gateshead NE9 6SX',\n",
       "       'Newcastle upon Tyne NE1 4PF', 'North East',\n",
       "       'Newcastle upon Tyne NE1', 'Birtley', 'Stocksfield NE43 7AJ',\n",
       "       'Gateshead NE11 0JL', 'Newcastle upon Tyne NE1 3BZ',\n",
       "       'Gateshead NE8 3DF', 'Durham•Remote',\n",
       "       'Seaham SR7 7TT•Temporarily Remote', 'Gateshead+3 locations',\n",
       "       'Kilburn', 'Staffordshire', 'Lichfield', 'Derby DE23+1 location',\n",
       "       'Ilkeston•Remote', 'Rugeley•Remote', 'Derby+1 location•Remote',\n",
       "       'Portsmouth', 'Hampshire', 'Southampton SO31•Remote',\n",
       "       'Southampton', 'Fareham', 'Brighton BN1 4DU•Remote', 'Bournemouth',\n",
       "       'Southampton SO31', 'Portsmouth PO6 1NF',\n",
       "       'Fareham PO16+1 location', 'Portsmouth PO2 8HB',\n",
       "       'Southampton•Remote', 'Eastleigh SO53', 'Eastleigh',\n",
       "       'Portsmouth PO1 3QA', 'East Hampshire',\n",
       "       'Southampton SO15•Temporarily Remote', 'Alton',\n",
       "       'Havant+1 location', 'Winchester', 'Southampton SO15•Remote',\n",
       "       'Winchester SO21 1HA', 'Portsmouth+1 location', 'Romsey',\n",
       "       'Portsmouth PO6', 'Hampshire•Remote', 'Southampton SO40',\n",
       "       'Fareham•Remote', 'Petersfield GU32', 'Waterlooville PO7 7XN',\n",
       "       'Gosport PO13 9XA•Remote', 'Portsmouth•Temporarily Remote',\n",
       "       'Fareham PO17 6AD', 'Eastleigh SO53 3LE', 'Chichester PO19',\n",
       "       'HMS Collingwood', 'Eastleigh•Remote', 'Southampton SO14',\n",
       "       'New Alresford SO24', 'Alton•Temporarily Remote', 'Porton Down',\n",
       "       'Salisbury•Remote', 'Ringwood BH24 3AA•Temporarily Remote',\n",
       "       'Andover SP10 5QZ•Remote', 'Andover SP10+1 location', 'Andover',\n",
       "       'Bournemouth•Temporarily Remote', 'Bournemouth BH7 7DW',\n",
       "       'Bournemouth+1 location', 'Bournemouth•Remote',\n",
       "       'Bournemouth BH1•Remote', 'Boscombe Down', 'New Milton+1 location',\n",
       "       'Salisbury', 'Wimborne BH21 7NL', 'London SE1',\n",
       "       'Worcester•Temporarily Remote', 'Slough', 'Greater London',\n",
       "       'Sutton', 'Sevenoaks', 'Uxbridge•Remote', 'Hatfield', 'Harrow',\n",
       "       'Croydon', 'Gerrards Cross', 'Hemel Hempstead',\n",
       "       'London EC1Y 8QE•Temporarily Remote', 'London SE1 8TW',\n",
       "       'Croydon•Remote', 'Kingston upon Thames+1 location',\n",
       "       'Kingston upon Thames•Remote', 'London SE5 9RS',\n",
       "       'London W2 6LA•Remote', 'London E1 1FR', 'Kingston upon Thames',\n",
       "       'London W1G', 'Hertfordshire', 'Dartford DA2 6PB',\n",
       "       'Hemel Hempstead HP2 4TZ', 'London EC3V', 'London EC3R•Remote',\n",
       "       'London N1 9RG•Remote', 'London SE1 7TY•Remote', 'London SE11 5DP',\n",
       "       'Reigate RH2', 'Teddington TW11 0AP', 'Woking GU21 6BG',\n",
       "       'London E1 8QS', 'Chertsey KT16 9BQ', 'Ruislip',\n",
       "       'London SE1 8TQ•Temporarily Remote', 'London EC2A 4JU',\n",
       "       'London WC2E 7AU•Remote', 'Redditch', 'Warwickshire', 'Studley',\n",
       "       'Kenilworth CV8 1NP•Temporarily Remote', 'Halesowen B63 3BL',\n",
       "       'Honiley CV8 1NP', 'Kenilworth CV8', 'Worcester', 'Droitwich WR9',\n",
       "       'Coventry CV3 4FJ', 'Birmingham+2 locations',\n",
       "       'United Kingdom•Temporarily Remote', 'Liverpool L5 9SY',\n",
       "       'Winsford CW7•Remote', 'Helsby', 'Bristol BS16 7FR',\n",
       "       'Wells BA5 2ST', 'Bath and North East Somerset',\n",
       "       'Bristol•Temporarily Remote', 'Rossendale',\n",
       "       'Salford M3•Temporarily Remote', 'Manchester M1 2HF',\n",
       "       'Manchester M1 1FT•Remote', 'Manchester M2 4LQ', 'Blackburn',\n",
       "       'Rochdale', 'Bury', 'Middleton', 'Barnsley•Remote',\n",
       "       'Leeds LS27 0WH', 'Leeds LS17 6NA', 'Harrogate',\n",
       "       'Leeds+1 location', 'Yorkshire•Remote', 'Selby•Remote',\n",
       "       'Edinburgh EH1', 'Edinburgh EH3 8EG', 'Kettering',\n",
       "       'Nottingham NG10 5BA•Temporarily Remote', 'Banbury OX16',\n",
       "       'Caerphilly CF83 2RZ', 'Cardiff CF10 1GR', 'Grantham•Remote',\n",
       "       'Wimbledon SW19 8UG', 'Guildford GU1•Remote', 'Guildford GU1',\n",
       "       'Guildford', 'Godalming', 'Ascot', 'Farnborough GU14 6FF',\n",
       "       'South West London', 'Bracknell', 'West London',\n",
       "       'Bracknell RG12 8SS', 'London / Gatwick Airport', 'Horsham',\n",
       "       'Farnborough', 'London SW1W', 'London N17 0JL', 'Crawley',\n",
       "       'North Shields•Remote', 'Newport PO30', 'Lymington',\n",
       "       'Fareham PO15 7FN', 'Fareham PO15 7AH+1 location', 'Ringwood',\n",
       "       'Brentford', 'Hemel Hempstead HP2 7AH', 'London EC3A 7LP',\n",
       "       'South Kensington', 'London E14 9FJ•Temporarily Remote',\n",
       "       'London EC4Y 0AN', 'London NW3 2QG', 'Elephant & Castle',\n",
       "       'London SE5 8AG', 'London EC4N', 'London W6 9BW', 'London SE1 9BB',\n",
       "       'London WC2R•Temporarily Remote', 'London SW17 7DJ',\n",
       "       'London EC1Y 8QE•Remote', 'Droitwich', 'Stourbridge',\n",
       "       'Walsall WS2 9PS', 'Birmingham B1 2RA',\n",
       "       'Wolverhampton+2 locations', 'Leamington Spa+1 location',\n",
       "       'Wolverhampton+1 location', 'Kidderminster', 'Cannock Chase',\n",
       "       'Worcestershire', 'Worcester WR5 2QT', 'Walsall WS2 7BN',\n",
       "       'Wolverhampton', 'Birmingham B3 1RD+1 location',\n",
       "       'Solihull B91 2AA', 'University of Warwick',\n",
       "       'Stafford ST18 0YY•Remote', 'Birmingham+1 location',\n",
       "       'Birmingham B3 3HN•Remote', 'Halesowen', 'Solihull B91 3QJ',\n",
       "       'Coventry CV4 9AP', 'Coventry CV6 6NY•Temporarily Remote',\n",
       "       'Warwick+1 location', 'Falkirk',\n",
       "       'Glasgow G20 0XA•Temporarily Remote', 'Warrington WA2 8WA',\n",
       "       'Chorley PR7', 'Warrington WA3 6ZH', 'St Helens WA9 3DA', 'Leigh',\n",
       "       'Leyland', 'Chester CH4', 'Ince-in-Makerfield', 'Northwich',\n",
       "       'Broxton', 'Lytham St. Annes+1 location•Temporarily Remote',\n",
       "       'Cadishead', 'Ewloe', 'Lytham', 'Liverpool L13 1HD',\n",
       "       'Chorley PR7 6TE', 'Wrexham', 'Bristol BS8•Remote', 'Bristol BS7',\n",
       "       'Stoke Gifford', 'Bath•Remote', 'Bristol BS15 4PJ', 'Bristol BS4',\n",
       "       'Stonehouse GL10 3RF•Remote', 'Chippenham SN14•Remote',\n",
       "       'Stonehouse GL10 3RF', 'Midsomer Norton', 'Salford M6',\n",
       "       'Manchester M2 6LW•Remote', 'Manchester M20 4BX',\n",
       "       'Manchester M34 3SH', 'Stockport•Remote', 'Manchester M17 1HH',\n",
       "       'Blackburn BB2 3HH', 'Bolton', 'Blackburn BB1 3HQ',\n",
       "       'Manchester M1 6EU', 'Greater Manchester', 'Rochdale OL11 1RY',\n",
       "       'Manchester M2 4WQ', 'Blackburn BB1 2PR', 'Stockport',\n",
       "       'Rochdale•Temporarily Remote', 'Manchester M5 3EQ',\n",
       "       'Sheffield•Temporarily Remote', 'Sheffield S10 2JF',\n",
       "       'Sheffield S9', 'Dewsbury', 'Chesterfield', 'Normanton WF10',\n",
       "       'Featherstone', 'Heath', 'Huddersfield HD3', 'Normanton',\n",
       "       'Castleford', 'Mansfield Woodhouse', 'Rotherham', 'Leeds LS1 4BN',\n",
       "       'Leeds LS11', 'Leeds LS6', 'York YO30 5SF', 'Bingley•Remote',\n",
       "       'Bingley BD16 1PY', 'Garforth', 'Leeds LS16',\n",
       "       'Leeds+1 location•Remote', 'Huddersfield HD4', 'Yorkshire',\n",
       "       'Bradford+1 location', 'Edinburgh EH10 5HF', 'Dalkeith',\n",
       "       'Livingston EH54', 'Loughborough LE11 3UZ•Temporarily Remote',\n",
       "       'Oakham LE15', 'Burton-On-Trent DE14+1 location', 'Tamworth B77',\n",
       "       'Lutterworth', 'Leicester•Temporarily Remote',\n",
       "       'Nottingham NG8 4GU', 'Rugby•Remote', 'Coventry CV1',\n",
       "       'Walsall WS2 7JL', 'Daventry NN11 4DR',\n",
       "       'Stratford-upon-Avon•Remote', 'Warwick+4 locations',\n",
       "       'West Midlands•Temporarily Remote', 'Daventry', 'Alcester B49 6EP',\n",
       "       'Solihull+1 location', 'Nelson•Remote', 'Harrogate HG1 1SY',\n",
       "       'Wetherby', 'Accrington', 'Bristol BS3 2TN',\n",
       "       'Belfast BT3 9LE•Remote', 'Belfast BT9 5JQ', 'Newark-on-Trent',\n",
       "       'Nottingham NG15•Remote', 'North Scarle', 'Nottingham NG5',\n",
       "       'Nottingham NG5 9RA', 'Epsom',\n",
       "       'Hemel Hempstead HP2 5HA•Temporarily Remote', 'London EC3A',\n",
       "       'London EC3R 6DL', 'Westminster', 'London EC1N 2SW•Remote',\n",
       "       'Maidenhead SL6 2RB', 'Thames Ditton', \"King's Cross•Remote\",\n",
       "       'Durham+1 location', 'Tyne and Wear', 'Newton Aycliffe',\n",
       "       'Newcastle upon Tyne NE15 8NX•Temporarily Remote',\n",
       "       'Staffordshire•Remote', 'Derby DE24 8AJ', 'Isle of Wight',\n",
       "       'Milton', 'South East', 'Chichester', 'Pulborough RH20 1ER',\n",
       "       'Salisbury SP2 8BJ', 'Ringwood BH24 1HD'], dtype=object)"
      ]
     },
     "execution_count": 31,
     "metadata": {},
     "output_type": "execute_result"
    }
   ],
   "source": [
    "# First let me see how many unique locations I have:\n",
    "df_jobs.location.unique()"
   ]
  },
  {
   "cell_type": "code",
   "execution_count": 32,
   "metadata": {},
   "outputs": [
    {
     "data": {
      "text/plain": [
       "762"
      ]
     },
     "execution_count": 32,
     "metadata": {},
     "output_type": "execute_result"
    }
   ],
   "source": [
    "df_jobs.location.nunique()"
   ]
  },
  {
   "cell_type": "code",
   "execution_count": 33,
   "metadata": {},
   "outputs": [],
   "source": [
    "cities = ['London', 'Birmingham', 'Glasgow', 'Liverpool', 'Bristol', \n",
    "          'Manchester', 'Sheffield', 'Leeds', 'Edinburgh', 'Leicester', \n",
    "          'Coventry', 'Bradford', 'Cardiff', 'Belfast', 'Nottingham',\n",
    "          'Kingston', 'Newcastle', 'Derby', 'Portsmouth', 'Southampton']"
   ]
  },
  {
   "cell_type": "code",
   "execution_count": 34,
   "metadata": {},
   "outputs": [],
   "source": [
    "# cities"
   ]
  },
  {
   "cell_type": "code",
   "execution_count": 35,
   "metadata": {},
   "outputs": [
    {
     "data": {
      "text/plain": [
       "20"
      ]
     },
     "execution_count": 35,
     "metadata": {},
     "output_type": "execute_result"
    }
   ],
   "source": [
    "len(cities)"
   ]
  },
  {
   "cell_type": "code",
   "execution_count": 36,
   "metadata": {},
   "outputs": [
    {
     "data": {
      "text/html": [
       "<div>\n",
       "<style scoped>\n",
       "    .dataframe tbody tr th:only-of-type {\n",
       "        vertical-align: middle;\n",
       "    }\n",
       "\n",
       "    .dataframe tbody tr th {\n",
       "        vertical-align: top;\n",
       "    }\n",
       "\n",
       "    .dataframe thead th {\n",
       "        text-align: right;\n",
       "    }\n",
       "</style>\n",
       "<table border=\"1\" class=\"dataframe\">\n",
       "  <thead>\n",
       "    <tr style=\"text-align: right;\">\n",
       "      <th></th>\n",
       "      <th>location</th>\n",
       "      <th>company</th>\n",
       "      <th>job_title</th>\n",
       "      <th>salary</th>\n",
       "      <th>high_salary</th>\n",
       "    </tr>\n",
       "  </thead>\n",
       "  <tbody>\n",
       "    <tr>\n",
       "      <th>2</th>\n",
       "      <td>London</td>\n",
       "      <td>ByteDance</td>\n",
       "      <td>Machine Learning Engineer - Recommendation</td>\n",
       "      <td>63345</td>\n",
       "      <td>1</td>\n",
       "    </tr>\n",
       "    <tr>\n",
       "      <th>5</th>\n",
       "      <td>London SE1 0AT</td>\n",
       "      <td>Fable Data</td>\n",
       "      <td>Data Scientist</td>\n",
       "      <td>55000</td>\n",
       "      <td>1</td>\n",
       "    </tr>\n",
       "    <tr>\n",
       "      <th>18</th>\n",
       "      <td>London</td>\n",
       "      <td>Karshare</td>\n",
       "      <td>Business Intelligence Engineer</td>\n",
       "      <td>45000</td>\n",
       "      <td>1</td>\n",
       "    </tr>\n",
       "    <tr>\n",
       "      <th>19</th>\n",
       "      <td>London</td>\n",
       "      <td>Graduate Recruitment Bureau</td>\n",
       "      <td>Graduate Technical Analyst and Support Engineer</td>\n",
       "      <td>26000</td>\n",
       "      <td>0</td>\n",
       "    </tr>\n",
       "    <tr>\n",
       "      <th>35</th>\n",
       "      <td>Birmingham</td>\n",
       "      <td>Openreach</td>\n",
       "      <td>Data Scientist</td>\n",
       "      <td>65000</td>\n",
       "      <td>1</td>\n",
       "    </tr>\n",
       "  </tbody>\n",
       "</table>\n",
       "</div>"
      ],
      "text/plain": [
       "          location                      company  \\\n",
       "2           London                    ByteDance   \n",
       "5   London SE1 0AT                   Fable Data   \n",
       "18          London                     Karshare   \n",
       "19          London  Graduate Recruitment Bureau   \n",
       "35      Birmingham                    Openreach   \n",
       "\n",
       "                                          job_title  salary  high_salary  \n",
       "2        Machine Learning Engineer - Recommendation   63345            1  \n",
       "5                                    Data Scientist   55000            1  \n",
       "18                   Business Intelligence Engineer   45000            1  \n",
       "19  Graduate Technical Analyst and Support Engineer   26000            0  \n",
       "35                                   Data Scientist   65000            1  "
      ]
     },
     "execution_count": 36,
     "metadata": {},
     "output_type": "execute_result"
    }
   ],
   "source": [
    "df_jobs.head()"
   ]
  },
  {
   "cell_type": "markdown",
   "metadata": {},
   "source": [
    "So I have many more unique locations than those cities I originally requested. I will clean the locations based on my original \"cities\" list:"
   ]
  },
  {
   "cell_type": "code",
   "execution_count": 37,
   "metadata": {},
   "outputs": [],
   "source": [
    "pat = r'\\b(?:{})\\b'.format('|'.join(cities))\n",
    "df_jobs['city'] = df_jobs['location'].str.findall('('+ pat +')').str.join('')"
   ]
  },
  {
   "cell_type": "code",
   "execution_count": 38,
   "metadata": {},
   "outputs": [
    {
     "data": {
      "text/html": [
       "<div>\n",
       "<style scoped>\n",
       "    .dataframe tbody tr th:only-of-type {\n",
       "        vertical-align: middle;\n",
       "    }\n",
       "\n",
       "    .dataframe tbody tr th {\n",
       "        vertical-align: top;\n",
       "    }\n",
       "\n",
       "    .dataframe thead th {\n",
       "        text-align: right;\n",
       "    }\n",
       "</style>\n",
       "<table border=\"1\" class=\"dataframe\">\n",
       "  <thead>\n",
       "    <tr style=\"text-align: right;\">\n",
       "      <th></th>\n",
       "      <th>location</th>\n",
       "      <th>company</th>\n",
       "      <th>job_title</th>\n",
       "      <th>salary</th>\n",
       "      <th>high_salary</th>\n",
       "      <th>city</th>\n",
       "    </tr>\n",
       "  </thead>\n",
       "  <tbody>\n",
       "    <tr>\n",
       "      <th>2</th>\n",
       "      <td>London</td>\n",
       "      <td>ByteDance</td>\n",
       "      <td>Machine Learning Engineer - Recommendation</td>\n",
       "      <td>63345</td>\n",
       "      <td>1</td>\n",
       "      <td>London</td>\n",
       "    </tr>\n",
       "    <tr>\n",
       "      <th>5</th>\n",
       "      <td>London SE1 0AT</td>\n",
       "      <td>Fable Data</td>\n",
       "      <td>Data Scientist</td>\n",
       "      <td>55000</td>\n",
       "      <td>1</td>\n",
       "      <td>London</td>\n",
       "    </tr>\n",
       "    <tr>\n",
       "      <th>18</th>\n",
       "      <td>London</td>\n",
       "      <td>Karshare</td>\n",
       "      <td>Business Intelligence Engineer</td>\n",
       "      <td>45000</td>\n",
       "      <td>1</td>\n",
       "      <td>London</td>\n",
       "    </tr>\n",
       "    <tr>\n",
       "      <th>19</th>\n",
       "      <td>London</td>\n",
       "      <td>Graduate Recruitment Bureau</td>\n",
       "      <td>Graduate Technical Analyst and Support Engineer</td>\n",
       "      <td>26000</td>\n",
       "      <td>0</td>\n",
       "      <td>London</td>\n",
       "    </tr>\n",
       "    <tr>\n",
       "      <th>35</th>\n",
       "      <td>Birmingham</td>\n",
       "      <td>Openreach</td>\n",
       "      <td>Data Scientist</td>\n",
       "      <td>65000</td>\n",
       "      <td>1</td>\n",
       "      <td>Birmingham</td>\n",
       "    </tr>\n",
       "    <tr>\n",
       "      <th>36</th>\n",
       "      <td>Birmingham B2</td>\n",
       "      <td>Axa</td>\n",
       "      <td>Data Scientist</td>\n",
       "      <td>50000</td>\n",
       "      <td>1</td>\n",
       "      <td>Birmingham</td>\n",
       "    </tr>\n",
       "    <tr>\n",
       "      <th>47</th>\n",
       "      <td>Stafford</td>\n",
       "      <td>Codeweavers</td>\n",
       "      <td>Lead Analytics Engineer</td>\n",
       "      <td>60000</td>\n",
       "      <td>1</td>\n",
       "      <td></td>\n",
       "    </tr>\n",
       "    <tr>\n",
       "      <th>48</th>\n",
       "      <td>Worcester•Remote</td>\n",
       "      <td>Searchability</td>\n",
       "      <td>BI Developer / Automation Engineer</td>\n",
       "      <td>60000</td>\n",
       "      <td>1</td>\n",
       "      <td></td>\n",
       "    </tr>\n",
       "    <tr>\n",
       "      <th>57</th>\n",
       "      <td>London</td>\n",
       "      <td>air-recruitment</td>\n",
       "      <td>Data Scientist - Global &amp; Social Issues</td>\n",
       "      <td>60000</td>\n",
       "      <td>1</td>\n",
       "      <td>London</td>\n",
       "    </tr>\n",
       "    <tr>\n",
       "      <th>66</th>\n",
       "      <td>Remote in London</td>\n",
       "      <td>Data Idols</td>\n",
       "      <td>Analytics Engineer</td>\n",
       "      <td>70000</td>\n",
       "      <td>1</td>\n",
       "      <td>London</td>\n",
       "    </tr>\n",
       "  </tbody>\n",
       "</table>\n",
       "</div>"
      ],
      "text/plain": [
       "            location                      company  \\\n",
       "2             London                    ByteDance   \n",
       "5     London SE1 0AT                   Fable Data   \n",
       "18            London                     Karshare   \n",
       "19            London  Graduate Recruitment Bureau   \n",
       "35        Birmingham                    Openreach   \n",
       "36     Birmingham B2                          Axa   \n",
       "47          Stafford                  Codeweavers   \n",
       "48  Worcester•Remote                Searchability   \n",
       "57            London              air-recruitment   \n",
       "66  Remote in London                   Data Idols   \n",
       "\n",
       "                                          job_title  salary  high_salary  \\\n",
       "2        Machine Learning Engineer - Recommendation   63345            1   \n",
       "5                                    Data Scientist   55000            1   \n",
       "18                   Business Intelligence Engineer   45000            1   \n",
       "19  Graduate Technical Analyst and Support Engineer   26000            0   \n",
       "35                                   Data Scientist   65000            1   \n",
       "36                                   Data Scientist   50000            1   \n",
       "47                          Lead Analytics Engineer   60000            1   \n",
       "48               BI Developer / Automation Engineer   60000            1   \n",
       "57          Data Scientist - Global & Social Issues   60000            1   \n",
       "66                               Analytics Engineer   70000            1   \n",
       "\n",
       "          city  \n",
       "2       London  \n",
       "5       London  \n",
       "18      London  \n",
       "19      London  \n",
       "35  Birmingham  \n",
       "36  Birmingham  \n",
       "47              \n",
       "48              \n",
       "57      London  \n",
       "66      London  "
      ]
     },
     "execution_count": 38,
     "metadata": {},
     "output_type": "execute_result"
    }
   ],
   "source": [
    "df_jobs.head(10)"
   ]
  },
  {
   "cell_type": "code",
   "execution_count": 39,
   "metadata": {},
   "outputs": [
    {
     "data": {
      "text/plain": [
       "array(['London', 'Birmingham', '', 'Coventry', 'Glasgow', 'Liverpool',\n",
       "       'Manchester', 'Bristol', 'Sheffield', 'Bradford', 'Leeds',\n",
       "       'Edinburgh', 'Derby', 'Nottingham', 'Leicester', 'Cardiff',\n",
       "       'Belfast', 'Newcastle', 'Portsmouth', 'Southampton', 'Kingston'],\n",
       "      dtype=object)"
      ]
     },
     "execution_count": 39,
     "metadata": {},
     "output_type": "execute_result"
    }
   ],
   "source": [
    "df_jobs.city.unique()"
   ]
  },
  {
   "cell_type": "code",
   "execution_count": 40,
   "metadata": {},
   "outputs": [
    {
     "data": {
      "text/plain": [
       "21"
      ]
     },
     "execution_count": 40,
     "metadata": {},
     "output_type": "execute_result"
    }
   ],
   "source": [
    "df_jobs.city.nunique()"
   ]
  },
  {
   "cell_type": "code",
   "execution_count": 41,
   "metadata": {},
   "outputs": [
    {
     "data": {
      "text/plain": [
       "               791\n",
       "London         352\n",
       "Manchester     137\n",
       "Bristol        135\n",
       "Leeds          120\n",
       "Birmingham     109\n",
       "Glasgow         63\n",
       "Edinburgh       59\n",
       "Nottingham      51\n",
       "Newcastle       42\n",
       "Cardiff         41\n",
       "Sheffield       40\n",
       "Liverpool       36\n",
       "Coventry        35\n",
       "Leicester       29\n",
       "Belfast         29\n",
       "Southampton     28\n",
       "Bradford        16\n",
       "Portsmouth      15\n",
       "Derby           14\n",
       "Kingston         3\n",
       "Name: city, dtype: int64"
      ]
     },
     "execution_count": 41,
     "metadata": {},
     "output_type": "execute_result"
    }
   ],
   "source": [
    "df_jobs.city.value_counts()"
   ]
  },
  {
   "cell_type": "code",
   "execution_count": 42,
   "metadata": {},
   "outputs": [],
   "source": [
    "df_jobs = df_jobs[df_jobs.city != '']"
   ]
  },
  {
   "cell_type": "code",
   "execution_count": 43,
   "metadata": {},
   "outputs": [
    {
     "data": {
      "image/png": "[encoded data removed]",
      "text/plain": [
       "<Figure size 720x360 with 1 Axes>"
      ]
     },
     "metadata": {
      "needs_background": "light"
     },
     "output_type": "display_data"
    }
   ],
   "source": [
    "# Visualize city count (top 10 cities)\n",
    "\n",
    "df_jobs.city.value_counts().head(10).sort_values().plot(kind=\"barh\", figsize=(10,5))\n",
    "plt.title(\"City Count - Top 10 Cities\")\n",
    "plt.xlabel(\"Count\")\n",
    "plt.ylabel(\"City\")\n",
    "\n",
    "plt.savefig(\"images/02 City Count.png\", bbox_inches=\"tight\")"
   ]
  },
  {
   "cell_type": "code",
   "execution_count": 44,
   "metadata": {},
   "outputs": [
    {
     "name": "stdout",
     "output_type": "stream",
     "text": [
      "<class 'pandas.core.frame.DataFrame'>\n",
      "Int64Index: 1354 entries, 2 to 57900\n",
      "Data columns (total 6 columns):\n",
      " #   Column       Non-Null Count  Dtype \n",
      "---  ------       --------------  ----- \n",
      " 0   location     1354 non-null   object\n",
      " 1   company      1354 non-null   object\n",
      " 2   job_title    1354 non-null   object\n",
      " 3   salary       1354 non-null   int64 \n",
      " 4   high_salary  1354 non-null   int64 \n",
      " 5   city         1354 non-null   object\n",
      "dtypes: int64(2), object(4)\n",
      "memory usage: 74.0+ KB\n"
     ]
    }
   ],
   "source": [
    "df_jobs.info()"
   ]
  },
  {
   "cell_type": "code",
   "execution_count": 45,
   "metadata": {},
   "outputs": [
    {
     "data": {
      "text/html": [
       "<div>\n",
       "<style scoped>\n",
       "    .dataframe tbody tr th:only-of-type {\n",
       "        vertical-align: middle;\n",
       "    }\n",
       "\n",
       "    .dataframe tbody tr th {\n",
       "        vertical-align: top;\n",
       "    }\n",
       "\n",
       "    .dataframe thead th {\n",
       "        text-align: right;\n",
       "    }\n",
       "</style>\n",
       "<table border=\"1\" class=\"dataframe\">\n",
       "  <thead>\n",
       "    <tr style=\"text-align: right;\">\n",
       "      <th></th>\n",
       "      <th>location</th>\n",
       "      <th>company</th>\n",
       "      <th>job_title</th>\n",
       "      <th>salary</th>\n",
       "      <th>high_salary</th>\n",
       "      <th>city</th>\n",
       "    </tr>\n",
       "  </thead>\n",
       "  <tbody>\n",
       "    <tr>\n",
       "      <th>2</th>\n",
       "      <td>London</td>\n",
       "      <td>ByteDance</td>\n",
       "      <td>Machine Learning Engineer - Recommendation</td>\n",
       "      <td>63345</td>\n",
       "      <td>1</td>\n",
       "      <td>London</td>\n",
       "    </tr>\n",
       "    <tr>\n",
       "      <th>5</th>\n",
       "      <td>London SE1 0AT</td>\n",
       "      <td>Fable Data</td>\n",
       "      <td>Data Scientist</td>\n",
       "      <td>55000</td>\n",
       "      <td>1</td>\n",
       "      <td>London</td>\n",
       "    </tr>\n",
       "    <tr>\n",
       "      <th>18</th>\n",
       "      <td>London</td>\n",
       "      <td>Karshare</td>\n",
       "      <td>Business Intelligence Engineer</td>\n",
       "      <td>45000</td>\n",
       "      <td>1</td>\n",
       "      <td>London</td>\n",
       "    </tr>\n",
       "    <tr>\n",
       "      <th>19</th>\n",
       "      <td>London</td>\n",
       "      <td>Graduate Recruitment Bureau</td>\n",
       "      <td>Graduate Technical Analyst and Support Engineer</td>\n",
       "      <td>26000</td>\n",
       "      <td>0</td>\n",
       "      <td>London</td>\n",
       "    </tr>\n",
       "    <tr>\n",
       "      <th>35</th>\n",
       "      <td>Birmingham</td>\n",
       "      <td>Openreach</td>\n",
       "      <td>Data Scientist</td>\n",
       "      <td>65000</td>\n",
       "      <td>1</td>\n",
       "      <td>Birmingham</td>\n",
       "    </tr>\n",
       "  </tbody>\n",
       "</table>\n",
       "</div>"
      ],
      "text/plain": [
       "          location                      company  \\\n",
       "2           London                    ByteDance   \n",
       "5   London SE1 0AT                   Fable Data   \n",
       "18          London                     Karshare   \n",
       "19          London  Graduate Recruitment Bureau   \n",
       "35      Birmingham                    Openreach   \n",
       "\n",
       "                                          job_title  salary  high_salary  \\\n",
       "2        Machine Learning Engineer - Recommendation   63345            1   \n",
       "5                                    Data Scientist   55000            1   \n",
       "18                   Business Intelligence Engineer   45000            1   \n",
       "19  Graduate Technical Analyst and Support Engineer   26000            0   \n",
       "35                                   Data Scientist   65000            1   \n",
       "\n",
       "          city  \n",
       "2       London  \n",
       "5       London  \n",
       "18      London  \n",
       "19      London  \n",
       "35  Birmingham  "
      ]
     },
     "execution_count": 45,
     "metadata": {},
     "output_type": "execute_result"
    }
   ],
   "source": [
    "df_jobs.head()"
   ]
  },
  {
   "cell_type": "markdown",
   "metadata": {},
   "source": [
    "##### 2. Use at least two different classifiers you find suitable.\n",
    "\n",
    "- Remember that scaling your features might be necessary.\n",
    "- Display the coefficients/feature importances and write a short summary of what they mean.\n"
   ]
  },
  {
   "cell_type": "code",
   "execution_count": 46,
   "metadata": {},
   "outputs": [],
   "source": [
    "# target and predictors\n",
    "X = df_jobs[['city']]\n",
    "y = df_jobs['high_salary']"
   ]
  },
  {
   "cell_type": "code",
   "execution_count": 47,
   "metadata": {},
   "outputs": [],
   "source": [
    "# dummify cities\n",
    "X_dummy = pd.get_dummies(X, drop_first=True)"
   ]
  },
  {
   "cell_type": "code",
   "execution_count": 48,
   "metadata": {},
   "outputs": [],
   "source": [
    "# get train-test split\n",
    "from sklearn.model_selection import train_test_split, cross_val_score\n",
    "X_train, X_test, y_train, y_test = train_test_split(X_dummy, y, test_size=0.2, random_state=42)"
   ]
  },
  {
   "cell_type": "code",
   "execution_count": 49,
   "metadata": {},
   "outputs": [],
   "source": [
    "# standardize features\n",
    "from sklearn.preprocessing import StandardScaler\n",
    "scaler = StandardScaler()\n",
    "X_train = scaler.fit_transform(X_train)\n",
    "X_test = scaler.transform(X_test)"
   ]
  },
  {
   "cell_type": "markdown",
   "metadata": {},
   "source": [
    "#### Logistic Regression Model"
   ]
  },
  {
   "cell_type": "code",
   "execution_count": 50,
   "metadata": {},
   "outputs": [
    {
     "name": "stdout",
     "output_type": "stream",
     "text": [
      "Cross-validated training scores: [0.49308756 0.58064516 0.50230415 0.5462963  0.54166667]\n",
      "Mean cross-validated training score: 0.532799965864482\n",
      "Training Score: 0.5844875346260388\n",
      "Test Score: 0.5018450184501845\n"
     ]
    }
   ],
   "source": [
    "# create a logistic regression model instance\n",
    "from sklearn.linear_model import LogisticRegression\n",
    "logreg = LogisticRegression()\n",
    "\n",
    "# fit and evaluate the data on the whole training set\n",
    "logreg.fit(X_train, y_train)\n",
    "\n",
    "# get cross validated scores\n",
    "scores = cross_val_score(logreg, X_train, y_train, cv=5)\n",
    "print(\"Cross-validated training scores:\", scores)\n",
    "print(\"Mean cross-validated training score:\", scores.mean())\n",
    "\n",
    "# evaluate data on the train and test set\n",
    "print(\"Training Score:\", logreg.score(X_train, y_train))\n",
    "print(\"Test Score:\", logreg.score(X_test, y_test))"
   ]
  },
  {
   "cell_type": "code",
   "execution_count": 51,
   "metadata": {},
   "outputs": [
    {
     "data": {
      "text/html": [
       "<div>\n",
       "<style scoped>\n",
       "    .dataframe tbody tr th:only-of-type {\n",
       "        vertical-align: middle;\n",
       "    }\n",
       "\n",
       "    .dataframe tbody tr th {\n",
       "        vertical-align: top;\n",
       "    }\n",
       "\n",
       "    .dataframe thead th {\n",
       "        text-align: right;\n",
       "    }\n",
       "</style>\n",
       "<table border=\"1\" class=\"dataframe\">\n",
       "  <thead>\n",
       "    <tr style=\"text-align: right;\">\n",
       "      <th></th>\n",
       "      <th>variable</th>\n",
       "      <th>coef</th>\n",
       "      <th>abs_coef</th>\n",
       "    </tr>\n",
       "  </thead>\n",
       "  <tbody>\n",
       "    <tr>\n",
       "      <th>12</th>\n",
       "      <td>city_London</td>\n",
       "      <td>0.498506</td>\n",
       "      <td>0.498506</td>\n",
       "    </tr>\n",
       "    <tr>\n",
       "      <th>0</th>\n",
       "      <td>city_Birmingham</td>\n",
       "      <td>0.310175</td>\n",
       "      <td>0.310175</td>\n",
       "    </tr>\n",
       "    <tr>\n",
       "      <th>13</th>\n",
       "      <td>city_Manchester</td>\n",
       "      <td>0.214948</td>\n",
       "      <td>0.214948</td>\n",
       "    </tr>\n",
       "    <tr>\n",
       "      <th>11</th>\n",
       "      <td>city_Liverpool</td>\n",
       "      <td>0.195761</td>\n",
       "      <td>0.195761</td>\n",
       "    </tr>\n",
       "    <tr>\n",
       "      <th>2</th>\n",
       "      <td>city_Bristol</td>\n",
       "      <td>0.153341</td>\n",
       "      <td>0.153341</td>\n",
       "    </tr>\n",
       "    <tr>\n",
       "      <th>7</th>\n",
       "      <td>city_Glasgow</td>\n",
       "      <td>0.121094</td>\n",
       "      <td>0.121094</td>\n",
       "    </tr>\n",
       "    <tr>\n",
       "      <th>17</th>\n",
       "      <td>city_Sheffield</td>\n",
       "      <td>0.107649</td>\n",
       "      <td>0.107649</td>\n",
       "    </tr>\n",
       "    <tr>\n",
       "      <th>9</th>\n",
       "      <td>city_Leeds</td>\n",
       "      <td>0.103885</td>\n",
       "      <td>0.103885</td>\n",
       "    </tr>\n",
       "    <tr>\n",
       "      <th>6</th>\n",
       "      <td>city_Edinburgh</td>\n",
       "      <td>0.088885</td>\n",
       "      <td>0.088885</td>\n",
       "    </tr>\n",
       "    <tr>\n",
       "      <th>10</th>\n",
       "      <td>city_Leicester</td>\n",
       "      <td>0.083095</td>\n",
       "      <td>0.083095</td>\n",
       "    </tr>\n",
       "    <tr>\n",
       "      <th>15</th>\n",
       "      <td>city_Nottingham</td>\n",
       "      <td>0.076211</td>\n",
       "      <td>0.076211</td>\n",
       "    </tr>\n",
       "    <tr>\n",
       "      <th>4</th>\n",
       "      <td>city_Coventry</td>\n",
       "      <td>0.064835</td>\n",
       "      <td>0.064835</td>\n",
       "    </tr>\n",
       "    <tr>\n",
       "      <th>1</th>\n",
       "      <td>city_Bradford</td>\n",
       "      <td>0.051256</td>\n",
       "      <td>0.051256</td>\n",
       "    </tr>\n",
       "    <tr>\n",
       "      <th>5</th>\n",
       "      <td>city_Derby</td>\n",
       "      <td>-0.048846</td>\n",
       "      <td>0.048846</td>\n",
       "    </tr>\n",
       "    <tr>\n",
       "      <th>18</th>\n",
       "      <td>city_Southampton</td>\n",
       "      <td>0.043452</td>\n",
       "      <td>0.043452</td>\n",
       "    </tr>\n",
       "    <tr>\n",
       "      <th>3</th>\n",
       "      <td>city_Cardiff</td>\n",
       "      <td>0.027654</td>\n",
       "      <td>0.027654</td>\n",
       "    </tr>\n",
       "    <tr>\n",
       "      <th>16</th>\n",
       "      <td>city_Portsmouth</td>\n",
       "      <td>0.022934</td>\n",
       "      <td>0.022934</td>\n",
       "    </tr>\n",
       "    <tr>\n",
       "      <th>8</th>\n",
       "      <td>city_Kingston</td>\n",
       "      <td>0.021022</td>\n",
       "      <td>0.021022</td>\n",
       "    </tr>\n",
       "    <tr>\n",
       "      <th>14</th>\n",
       "      <td>city_Newcastle</td>\n",
       "      <td>-0.003264</td>\n",
       "      <td>0.003264</td>\n",
       "    </tr>\n",
       "  </tbody>\n",
       "</table>\n",
       "</div>"
      ],
      "text/plain": [
       "            variable      coef  abs_coef\n",
       "12       city_London  0.498506  0.498506\n",
       "0    city_Birmingham  0.310175  0.310175\n",
       "13   city_Manchester  0.214948  0.214948\n",
       "11    city_Liverpool  0.195761  0.195761\n",
       "2       city_Bristol  0.153341  0.153341\n",
       "7       city_Glasgow  0.121094  0.121094\n",
       "17    city_Sheffield  0.107649  0.107649\n",
       "9         city_Leeds  0.103885  0.103885\n",
       "6     city_Edinburgh  0.088885  0.088885\n",
       "10    city_Leicester  0.083095  0.083095\n",
       "15   city_Nottingham  0.076211  0.076211\n",
       "4      city_Coventry  0.064835  0.064835\n",
       "1      city_Bradford  0.051256  0.051256\n",
       "5         city_Derby -0.048846  0.048846\n",
       "18  city_Southampton  0.043452  0.043452\n",
       "3       city_Cardiff  0.027654  0.027654\n",
       "16   city_Portsmouth  0.022934  0.022934\n",
       "8      city_Kingston  0.021022  0.021022\n",
       "14    city_Newcastle -0.003264  0.003264"
      ]
     },
     "execution_count": 51,
     "metadata": {},
     "output_type": "execute_result"
    }
   ],
   "source": [
    "logreg_coefs = pd.DataFrame({'variable': X_dummy.columns,\n",
    "                            'coef': logreg.coef_[0],\n",
    "                            'abs_coef': np.abs(logreg.coef_[0])})\n",
    "\n",
    "logreg_coefs.sort_values('abs_coef', inplace=True, ascending=False)\n",
    "logreg_coefs"
   ]
  },
  {
   "cell_type": "markdown",
   "metadata": {},
   "source": [
    "#### Decision Tree Classifier"
   ]
  },
  {
   "cell_type": "code",
   "execution_count": 52,
   "metadata": {},
   "outputs": [
    {
     "name": "stdout",
     "output_type": "stream",
     "text": [
      "Cross-validated training scores: [0.49308756 0.58064516 0.50230415 0.5462963  0.54166667]\n",
      "Mean cross-validated training score: 0.532799965864482\n",
      "Training Score: 0.5844875346260388\n",
      "Test Score: 0.5018450184501845\n"
     ]
    }
   ],
   "source": [
    "# create a decision tree classification model instance\n",
    "from sklearn.tree import DecisionTreeClassifier\n",
    "dectrec = DecisionTreeClassifier()\n",
    "\n",
    "# fit and evaluate the data on the whole training set\n",
    "dectrec.fit(X_train, y_train)\n",
    "\n",
    "# get cross validated scores\n",
    "scores = cross_val_score(dectrec, X_train, y_train, cv=5)\n",
    "print(\"Cross-validated training scores:\", scores)\n",
    "print(\"Mean cross-validated training score:\", scores.mean())\n",
    "\n",
    "# evaluate data on the train and test set\n",
    "print(\"Training Score:\", dectrec.score(X_train, y_train))\n",
    "print(\"Test Score:\", dectrec.score(X_test, y_test))"
   ]
  },
  {
   "cell_type": "code",
   "execution_count": 53,
   "metadata": {},
   "outputs": [
    {
     "data": {
      "text/html": [
       "<div>\n",
       "<style scoped>\n",
       "    .dataframe tbody tr th:only-of-type {\n",
       "        vertical-align: middle;\n",
       "    }\n",
       "\n",
       "    .dataframe tbody tr th {\n",
       "        vertical-align: top;\n",
       "    }\n",
       "\n",
       "    .dataframe thead th {\n",
       "        text-align: right;\n",
       "    }\n",
       "</style>\n",
       "<table border=\"1\" class=\"dataframe\">\n",
       "  <thead>\n",
       "    <tr style=\"text-align: right;\">\n",
       "      <th></th>\n",
       "      <th>Feature</th>\n",
       "      <th>Importance</th>\n",
       "    </tr>\n",
       "  </thead>\n",
       "  <tbody>\n",
       "    <tr>\n",
       "      <th>12</th>\n",
       "      <td>city_London</td>\n",
       "      <td>0.457622</td>\n",
       "    </tr>\n",
       "    <tr>\n",
       "      <th>0</th>\n",
       "      <td>city_Birmingham</td>\n",
       "      <td>0.208913</td>\n",
       "    </tr>\n",
       "    <tr>\n",
       "      <th>11</th>\n",
       "      <td>city_Liverpool</td>\n",
       "      <td>0.104058</td>\n",
       "    </tr>\n",
       "    <tr>\n",
       "      <th>13</th>\n",
       "      <td>city_Manchester</td>\n",
       "      <td>0.063363</td>\n",
       "    </tr>\n",
       "    <tr>\n",
       "      <th>5</th>\n",
       "      <td>city_Derby</td>\n",
       "      <td>0.046810</td>\n",
       "    </tr>\n",
       "    <tr>\n",
       "      <th>14</th>\n",
       "      <td>city_Newcastle</td>\n",
       "      <td>0.036601</td>\n",
       "    </tr>\n",
       "    <tr>\n",
       "      <th>17</th>\n",
       "      <td>city_Sheffield</td>\n",
       "      <td>0.012136</td>\n",
       "    </tr>\n",
       "    <tr>\n",
       "      <th>3</th>\n",
       "      <td>city_Cardiff</td>\n",
       "      <td>0.010195</td>\n",
       "    </tr>\n",
       "    <tr>\n",
       "      <th>7</th>\n",
       "      <td>city_Glasgow</td>\n",
       "      <td>0.009659</td>\n",
       "    </tr>\n",
       "    <tr>\n",
       "      <th>4</th>\n",
       "      <td>city_Coventry</td>\n",
       "      <td>0.008812</td>\n",
       "    </tr>\n",
       "    <tr>\n",
       "      <th>10</th>\n",
       "      <td>city_Leicester</td>\n",
       "      <td>0.007561</td>\n",
       "    </tr>\n",
       "    <tr>\n",
       "      <th>2</th>\n",
       "      <td>city_Bristol</td>\n",
       "      <td>0.007559</td>\n",
       "    </tr>\n",
       "    <tr>\n",
       "      <th>18</th>\n",
       "      <td>city_Southampton</td>\n",
       "      <td>0.006145</td>\n",
       "    </tr>\n",
       "    <tr>\n",
       "      <th>9</th>\n",
       "      <td>city_Leeds</td>\n",
       "      <td>0.004589</td>\n",
       "    </tr>\n",
       "    <tr>\n",
       "      <th>8</th>\n",
       "      <td>city_Kingston</td>\n",
       "      <td>0.004270</td>\n",
       "    </tr>\n",
       "    <tr>\n",
       "      <th>16</th>\n",
       "      <td>city_Portsmouth</td>\n",
       "      <td>0.003766</td>\n",
       "    </tr>\n",
       "    <tr>\n",
       "      <th>6</th>\n",
       "      <td>city_Edinburgh</td>\n",
       "      <td>0.003615</td>\n",
       "    </tr>\n",
       "    <tr>\n",
       "      <th>1</th>\n",
       "      <td>city_Bradford</td>\n",
       "      <td>0.002251</td>\n",
       "    </tr>\n",
       "    <tr>\n",
       "      <th>15</th>\n",
       "      <td>city_Nottingham</td>\n",
       "      <td>0.002075</td>\n",
       "    </tr>\n",
       "  </tbody>\n",
       "</table>\n",
       "</div>"
      ],
      "text/plain": [
       "             Feature  Importance\n",
       "12       city_London    0.457622\n",
       "0    city_Birmingham    0.208913\n",
       "11    city_Liverpool    0.104058\n",
       "13   city_Manchester    0.063363\n",
       "5         city_Derby    0.046810\n",
       "14    city_Newcastle    0.036601\n",
       "17    city_Sheffield    0.012136\n",
       "3       city_Cardiff    0.010195\n",
       "7       city_Glasgow    0.009659\n",
       "4      city_Coventry    0.008812\n",
       "10    city_Leicester    0.007561\n",
       "2       city_Bristol    0.007559\n",
       "18  city_Southampton    0.006145\n",
       "9         city_Leeds    0.004589\n",
       "8      city_Kingston    0.004270\n",
       "16   city_Portsmouth    0.003766\n",
       "6     city_Edinburgh    0.003615\n",
       "1      city_Bradford    0.002251\n",
       "15   city_Nottingham    0.002075"
      ]
     },
     "execution_count": 53,
     "metadata": {},
     "output_type": "execute_result"
    }
   ],
   "source": [
    "pd.DataFrame(list(zip(X_dummy.columns, dectrec.feature_importances_)), \n",
    "             columns=['Feature', 'Importance']).sort_values(by='Importance', ascending=False)"
   ]
  },
  {
   "cell_type": "markdown",
   "metadata": {},
   "source": [
    "#### Random Forest Classifier"
   ]
  },
  {
   "cell_type": "code",
   "execution_count": 54,
   "metadata": {},
   "outputs": [
    {
     "name": "stdout",
     "output_type": "stream",
     "text": [
      "Cross-validated training scores: [0.49308756 0.5483871  0.50230415 0.5462963  0.53240741]\n",
      "Mean cross-validated training score: 0.5244965011094044\n",
      "Training Score: 0.5844875346260388\n",
      "Test Score: 0.5055350553505535\n"
     ]
    }
   ],
   "source": [
    "# create a random forest classification model instance\n",
    "from sklearn.ensemble import RandomForestClassifier\n",
    "ranforc = RandomForestClassifier()\n",
    "\n",
    "# fit and evaluate the data on the whole training set\n",
    "ranforc.fit(X_train, y_train)\n",
    "\n",
    "# get cross validated scores\n",
    "scores = cross_val_score(ranforc, X_train, y_train, cv=5)\n",
    "print(\"Cross-validated training scores:\", scores)\n",
    "print(\"Mean cross-validated training score:\", scores.mean())\n",
    "\n",
    "# evaluate data on the train and test set\n",
    "print(\"Training Score:\", ranforc.score(X_train, y_train))\n",
    "print(\"Test Score:\", ranforc.score(X_test, y_test))"
   ]
  },
  {
   "cell_type": "code",
   "execution_count": 55,
   "metadata": {},
   "outputs": [
    {
     "data": {
      "text/html": [
       "<div>\n",
       "<style scoped>\n",
       "    .dataframe tbody tr th:only-of-type {\n",
       "        vertical-align: middle;\n",
       "    }\n",
       "\n",
       "    .dataframe tbody tr th {\n",
       "        vertical-align: top;\n",
       "    }\n",
       "\n",
       "    .dataframe thead th {\n",
       "        text-align: right;\n",
       "    }\n",
       "</style>\n",
       "<table border=\"1\" class=\"dataframe\">\n",
       "  <thead>\n",
       "    <tr style=\"text-align: right;\">\n",
       "      <th></th>\n",
       "      <th>Feature</th>\n",
       "      <th>Importance</th>\n",
       "    </tr>\n",
       "  </thead>\n",
       "  <tbody>\n",
       "    <tr>\n",
       "      <th>12</th>\n",
       "      <td>city_London</td>\n",
       "      <td>0.284529</td>\n",
       "    </tr>\n",
       "    <tr>\n",
       "      <th>0</th>\n",
       "      <td>city_Birmingham</td>\n",
       "      <td>0.103735</td>\n",
       "    </tr>\n",
       "    <tr>\n",
       "      <th>14</th>\n",
       "      <td>city_Newcastle</td>\n",
       "      <td>0.063569</td>\n",
       "    </tr>\n",
       "    <tr>\n",
       "      <th>11</th>\n",
       "      <td>city_Liverpool</td>\n",
       "      <td>0.060908</td>\n",
       "    </tr>\n",
       "    <tr>\n",
       "      <th>5</th>\n",
       "      <td>city_Derby</td>\n",
       "      <td>0.059852</td>\n",
       "    </tr>\n",
       "    <tr>\n",
       "      <th>9</th>\n",
       "      <td>city_Leeds</td>\n",
       "      <td>0.055077</td>\n",
       "    </tr>\n",
       "    <tr>\n",
       "      <th>13</th>\n",
       "      <td>city_Manchester</td>\n",
       "      <td>0.041222</td>\n",
       "    </tr>\n",
       "    <tr>\n",
       "      <th>3</th>\n",
       "      <td>city_Cardiff</td>\n",
       "      <td>0.040702</td>\n",
       "    </tr>\n",
       "    <tr>\n",
       "      <th>2</th>\n",
       "      <td>city_Bristol</td>\n",
       "      <td>0.035475</td>\n",
       "    </tr>\n",
       "    <tr>\n",
       "      <th>18</th>\n",
       "      <td>city_Southampton</td>\n",
       "      <td>0.031036</td>\n",
       "    </tr>\n",
       "    <tr>\n",
       "      <th>17</th>\n",
       "      <td>city_Sheffield</td>\n",
       "      <td>0.029744</td>\n",
       "    </tr>\n",
       "    <tr>\n",
       "      <th>15</th>\n",
       "      <td>city_Nottingham</td>\n",
       "      <td>0.028305</td>\n",
       "    </tr>\n",
       "    <tr>\n",
       "      <th>6</th>\n",
       "      <td>city_Edinburgh</td>\n",
       "      <td>0.027694</td>\n",
       "    </tr>\n",
       "    <tr>\n",
       "      <th>16</th>\n",
       "      <td>city_Portsmouth</td>\n",
       "      <td>0.026644</td>\n",
       "    </tr>\n",
       "    <tr>\n",
       "      <th>7</th>\n",
       "      <td>city_Glasgow</td>\n",
       "      <td>0.025550</td>\n",
       "    </tr>\n",
       "    <tr>\n",
       "      <th>4</th>\n",
       "      <td>city_Coventry</td>\n",
       "      <td>0.022948</td>\n",
       "    </tr>\n",
       "    <tr>\n",
       "      <th>10</th>\n",
       "      <td>city_Leicester</td>\n",
       "      <td>0.022947</td>\n",
       "    </tr>\n",
       "    <tr>\n",
       "      <th>1</th>\n",
       "      <td>city_Bradford</td>\n",
       "      <td>0.020169</td>\n",
       "    </tr>\n",
       "    <tr>\n",
       "      <th>8</th>\n",
       "      <td>city_Kingston</td>\n",
       "      <td>0.019894</td>\n",
       "    </tr>\n",
       "  </tbody>\n",
       "</table>\n",
       "</div>"
      ],
      "text/plain": [
       "             Feature  Importance\n",
       "12       city_London    0.284529\n",
       "0    city_Birmingham    0.103735\n",
       "14    city_Newcastle    0.063569\n",
       "11    city_Liverpool    0.060908\n",
       "5         city_Derby    0.059852\n",
       "9         city_Leeds    0.055077\n",
       "13   city_Manchester    0.041222\n",
       "3       city_Cardiff    0.040702\n",
       "2       city_Bristol    0.035475\n",
       "18  city_Southampton    0.031036\n",
       "17    city_Sheffield    0.029744\n",
       "15   city_Nottingham    0.028305\n",
       "6     city_Edinburgh    0.027694\n",
       "16   city_Portsmouth    0.026644\n",
       "7       city_Glasgow    0.025550\n",
       "4      city_Coventry    0.022948\n",
       "10    city_Leicester    0.022947\n",
       "1      city_Bradford    0.020169\n",
       "8      city_Kingston    0.019894"
      ]
     },
     "execution_count": 55,
     "metadata": {},
     "output_type": "execute_result"
    }
   ],
   "source": [
    "pd.DataFrame(list(zip(X_dummy.columns, ranforc.feature_importances_)), \n",
    "             columns=['Feature', 'Importance']).sort_values(by='Importance', ascending=False)"
   ]
  },
  {
   "cell_type": "markdown",
   "metadata": {},
   "source": [
    "The models all have approximately the same mean cv score around 0.55. This is marginally better than the baseline score of 0.5. However at this point we are only using a single feature, the location."
   ]
  },
  {
   "cell_type": "markdown",
   "metadata": {},
   "source": [
    "#### 3. Create a few new variables in your dataframe to represent interesting features of a job title (e.g. whether 'Senior' or 'Manager' is in the title).\n",
    "- Incorporate other text features from the title or summary that you believe will predict the salary."
   ]
  },
  {
   "cell_type": "markdown",
   "metadata": {},
   "source": [
    "Some interesting features that can be extracted from the job title include position and level (grade). \n",
    "\n",
    "These are defined below in separate lists."
   ]
  },
  {
   "cell_type": "code",
   "execution_count": 56,
   "metadata": {},
   "outputs": [],
   "source": [
    "positions = {'Scientist', 'Analyst', 'Consultant', 'Engineer', 'Architect',\n",
    "             'Developer', 'Professor'}"
   ]
  },
  {
   "cell_type": "code",
   "execution_count": 57,
   "metadata": {},
   "outputs": [],
   "source": [
    "def position_finder(x):\n",
    "    \"\"\"Extracts position from job_title\"\"\"\n",
    "    \"\"\"Note: position must be in positions set\"\"\"\n",
    "    df_positions = set(x.split(' '))\n",
    "    extract_positions = positions.intersection(df_positions)\n",
    "    return ', '.join(extract_positions)"
   ]
  },
  {
   "cell_type": "code",
   "execution_count": 58,
   "metadata": {},
   "outputs": [],
   "source": [
    "df_jobs['position'] = df_jobs['job_title'].apply(position_finder)"
   ]
  },
  {
   "cell_type": "code",
   "execution_count": 59,
   "metadata": {},
   "outputs": [],
   "source": [
    "levels = {'Graduate', 'Postgraduate', 'Entry', 'Junior', 'Senior', 'Associate', 'Manager', 'Lead', 'Principal', 'Specialist'} "
   ]
  },
  {
   "cell_type": "code",
   "execution_count": 60,
   "metadata": {},
   "outputs": [],
   "source": [
    "def level_finder(x):\n",
    "    \"\"\"Extracts level from job_title\"\"\"\n",
    "    \"\"\"Note: level must be in levels set\"\"\"\n",
    "    df_levels = set(x.split(' '))\n",
    "    extract_levels = levels.intersection(df_levels)\n",
    "    return ', '.join(extract_levels)"
   ]
  },
  {
   "cell_type": "code",
   "execution_count": 61,
   "metadata": {},
   "outputs": [],
   "source": [
    "df_jobs['level'] = df_jobs['job_title'].apply(level_finder)"
   ]
  },
  {
   "cell_type": "code",
   "execution_count": 62,
   "metadata": {},
   "outputs": [
    {
     "data": {
      "text/html": [
       "<div>\n",
       "<style scoped>\n",
       "    .dataframe tbody tr th:only-of-type {\n",
       "        vertical-align: middle;\n",
       "    }\n",
       "\n",
       "    .dataframe tbody tr th {\n",
       "        vertical-align: top;\n",
       "    }\n",
       "\n",
       "    .dataframe thead th {\n",
       "        text-align: right;\n",
       "    }\n",
       "</style>\n",
       "<table border=\"1\" class=\"dataframe\">\n",
       "  <thead>\n",
       "    <tr style=\"text-align: right;\">\n",
       "      <th></th>\n",
       "      <th>location</th>\n",
       "      <th>company</th>\n",
       "      <th>job_title</th>\n",
       "      <th>salary</th>\n",
       "      <th>high_salary</th>\n",
       "      <th>city</th>\n",
       "      <th>position</th>\n",
       "      <th>level</th>\n",
       "    </tr>\n",
       "  </thead>\n",
       "  <tbody>\n",
       "    <tr>\n",
       "      <th>2</th>\n",
       "      <td>London</td>\n",
       "      <td>ByteDance</td>\n",
       "      <td>Machine Learning Engineer - Recommendation</td>\n",
       "      <td>63345</td>\n",
       "      <td>1</td>\n",
       "      <td>London</td>\n",
       "      <td>Engineer</td>\n",
       "      <td></td>\n",
       "    </tr>\n",
       "    <tr>\n",
       "      <th>5</th>\n",
       "      <td>London SE1 0AT</td>\n",
       "      <td>Fable Data</td>\n",
       "      <td>Data Scientist</td>\n",
       "      <td>55000</td>\n",
       "      <td>1</td>\n",
       "      <td>London</td>\n",
       "      <td>Scientist</td>\n",
       "      <td></td>\n",
       "    </tr>\n",
       "    <tr>\n",
       "      <th>18</th>\n",
       "      <td>London</td>\n",
       "      <td>Karshare</td>\n",
       "      <td>Business Intelligence Engineer</td>\n",
       "      <td>45000</td>\n",
       "      <td>1</td>\n",
       "      <td>London</td>\n",
       "      <td>Engineer</td>\n",
       "      <td></td>\n",
       "    </tr>\n",
       "    <tr>\n",
       "      <th>19</th>\n",
       "      <td>London</td>\n",
       "      <td>Graduate Recruitment Bureau</td>\n",
       "      <td>Graduate Technical Analyst and Support Engineer</td>\n",
       "      <td>26000</td>\n",
       "      <td>0</td>\n",
       "      <td>London</td>\n",
       "      <td>Engineer, Analyst</td>\n",
       "      <td>Graduate</td>\n",
       "    </tr>\n",
       "    <tr>\n",
       "      <th>35</th>\n",
       "      <td>Birmingham</td>\n",
       "      <td>Openreach</td>\n",
       "      <td>Data Scientist</td>\n",
       "      <td>65000</td>\n",
       "      <td>1</td>\n",
       "      <td>Birmingham</td>\n",
       "      <td>Scientist</td>\n",
       "      <td></td>\n",
       "    </tr>\n",
       "  </tbody>\n",
       "</table>\n",
       "</div>"
      ],
      "text/plain": [
       "          location                      company  \\\n",
       "2           London                    ByteDance   \n",
       "5   London SE1 0AT                   Fable Data   \n",
       "18          London                     Karshare   \n",
       "19          London  Graduate Recruitment Bureau   \n",
       "35      Birmingham                    Openreach   \n",
       "\n",
       "                                          job_title  salary  high_salary  \\\n",
       "2        Machine Learning Engineer - Recommendation   63345            1   \n",
       "5                                    Data Scientist   55000            1   \n",
       "18                   Business Intelligence Engineer   45000            1   \n",
       "19  Graduate Technical Analyst and Support Engineer   26000            0   \n",
       "35                                   Data Scientist   65000            1   \n",
       "\n",
       "          city           position     level  \n",
       "2       London           Engineer            \n",
       "5       London          Scientist            \n",
       "18      London           Engineer            \n",
       "19      London  Engineer, Analyst  Graduate  \n",
       "35  Birmingham          Scientist            "
      ]
     },
     "execution_count": 62,
     "metadata": {},
     "output_type": "execute_result"
    }
   ],
   "source": [
    "df_jobs.head()"
   ]
  },
  {
   "cell_type": "code",
   "execution_count": 63,
   "metadata": {},
   "outputs": [
    {
     "data": {
      "text/plain": [
       "Analyst                  435\n",
       "                         380\n",
       "Consultant               211\n",
       "Engineer                 142\n",
       "Scientist                109\n",
       "Developer                 52\n",
       "Professor                  4\n",
       "Architect                  4\n",
       "Consultant, Analyst        3\n",
       "Scientist, Engineer        3\n",
       "Engineer, Developer        2\n",
       "Developer, Analyst         2\n",
       "Engineer, Architect        1\n",
       "Architect, Consultant      1\n",
       "Scientist, Analyst         1\n",
       "Analyst, Consultant        1\n",
       "Developer, Consultant      1\n",
       "Scientist, Consultant      1\n",
       "Engineer, Analyst          1\n",
       "Name: position, dtype: int64"
      ]
     },
     "execution_count": 63,
     "metadata": {},
     "output_type": "execute_result"
    }
   ],
   "source": [
    "df_jobs['position'].value_counts()"
   ]
  },
  {
   "cell_type": "code",
   "execution_count": 64,
   "metadata": {},
   "outputs": [
    {
     "data": {
      "text/plain": [
       "                         911\n",
       "Senior                   178\n",
       "Junior                    65\n",
       "Manager                   58\n",
       "Lead                      39\n",
       "Graduate                  38\n",
       "Associate                 16\n",
       "Specialist                12\n",
       "Principal                  8\n",
       "Manager, Senior            7\n",
       "Senior, Associate          5\n",
       "Junior, Graduate           4\n",
       "Entry                      3\n",
       "Postgraduate               2\n",
       "Specialist, Principal      2\n",
       "Manager, Junior            2\n",
       "Junior, Manager            2\n",
       "Manager, Lead              1\n",
       "Specialist, Senior         1\n",
       "Name: level, dtype: int64"
      ]
     },
     "execution_count": 64,
     "metadata": {},
     "output_type": "execute_result"
    }
   ],
   "source": [
    "df_jobs['level'].value_counts()"
   ]
  },
  {
   "cell_type": "markdown",
   "metadata": {},
   "source": [
    "#### 4. Then build new classification models including also those features. Do they add any value?\n",
    "- Tune your models by testing parameter ranges, regularization strengths, etc. Discuss how that affects your models.\n",
    "- Discuss model coefficients or feature importances as applicable."
   ]
  },
  {
   "cell_type": "code",
   "execution_count": 65,
   "metadata": {},
   "outputs": [],
   "source": [
    "# target and predictors\n",
    "Xn = df_jobs[['city', 'position', 'level']]\n",
    "yn = df_jobs['high_salary']"
   ]
  },
  {
   "cell_type": "code",
   "execution_count": 66,
   "metadata": {},
   "outputs": [],
   "source": [
    "# dummify cities\n",
    "Xn_dummy = pd.get_dummies(Xn, drop_first=True)\n",
    "# Xn_dummy = Xn_dummy.drop(['position_','level_'], axis=1)"
   ]
  },
  {
   "cell_type": "code",
   "execution_count": 67,
   "metadata": {},
   "outputs": [],
   "source": [
    "# get train-test split\n",
    "Xn_train, Xn_test, yn_train, yn_test = train_test_split(Xn_dummy, yn, test_size=0.2, random_state=42)"
   ]
  },
  {
   "cell_type": "code",
   "execution_count": 68,
   "metadata": {},
   "outputs": [],
   "source": [
    "# standardize features\n",
    "Xn_train = scaler.fit_transform(Xn_train)\n",
    "Xn_test = scaler.transform(Xn_test)"
   ]
  },
  {
   "cell_type": "markdown",
   "metadata": {},
   "source": [
    "#### Logistic Regression Model"
   ]
  },
  {
   "cell_type": "code",
   "execution_count": 69,
   "metadata": {},
   "outputs": [
    {
     "name": "stdout",
     "output_type": "stream",
     "text": [
      "Cross-validated training scores: [0.6359447  0.70506912 0.64976959 0.68518519 0.68055556]\n",
      "Mean cross-validated training score: 0.6713048301757979\n",
      "Training Score: 0.7100646352723915\n",
      "Test Score: 0.7011070110701108\n"
     ]
    }
   ],
   "source": [
    "# create a logistic regression model instance\n",
    "logregn = LogisticRegression(random_state=42)\n",
    "\n",
    "# fit and evaluate the data on the whole training set\n",
    "logregn.fit(Xn_train, yn_train)\n",
    "\n",
    "# get cross validated scores\n",
    "scores = cross_val_score(logregn, Xn_train, yn_train, cv=5)\n",
    "print(\"Cross-validated training scores:\", scores)\n",
    "print(\"Mean cross-validated training score:\", scores.mean())\n",
    "\n",
    "# evaluate data on the train and test set\n",
    "print(\"Training Score:\", logregn.score(Xn_train, yn_train))\n",
    "print(\"Test Score:\", logregn.score(Xn_test, yn_test))"
   ]
  },
  {
   "cell_type": "code",
   "execution_count": 70,
   "metadata": {},
   "outputs": [],
   "source": [
    "# tune model using GridSearchCV\n",
    "from sklearn.model_selection import GridSearchCV"
   ]
  },
  {
   "cell_type": "code",
   "execution_count": 71,
   "metadata": {},
   "outputs": [
    {
     "name": "stdout",
     "output_type": "stream",
     "text": [
      "Fitting 5 folds for each of 18 candidates, totalling 90 fits\n"
     ]
    },
    {
     "data": {
      "text/plain": [
       "GridSearchCV(cv=5, estimator=LogisticRegression(random_state=42), n_jobs=-2,\n",
       "             param_grid={'C': array([1.e-04, 1.e-03, 1.e-02, 1.e-01, 1.e+00, 1.e+01, 1.e+02, 1.e+03,\n",
       "       1.e+04]),\n",
       "                         'penalty': ['l1', 'l2'], 'solver': ['liblinear']},\n",
       "             return_train_score=True, verbose=1)"
      ]
     },
     "execution_count": 71,
     "metadata": {},
     "output_type": "execute_result"
    }
   ],
   "source": [
    "# gridsearch params\n",
    "logr_params = {\n",
    "    'penalty': ['l1', 'l2'],\n",
    "    'solver': ['liblinear'],\n",
    "    'C': np.logspace(-4, 4, 9)\n",
    "}\n",
    "\n",
    "# set the gridsearch\n",
    "model_logr = LogisticRegression(random_state=42)\n",
    "logr_gs = GridSearchCV(model_logr, logr_params, cv=5,\n",
    "                      verbose=1, n_jobs=-2, return_train_score=True)\n",
    "\n",
    "# use the gridearch model to fit the data\n",
    "logr_gs.fit(Xn_train, yn_train)"
   ]
  },
  {
   "cell_type": "code",
   "execution_count": 72,
   "metadata": {},
   "outputs": [
    {
     "name": "stdout",
     "output_type": "stream",
     "text": [
      "{'C': 0.1, 'penalty': 'l1', 'solver': 'liblinear'}\n",
      "Best Mean CV score: 0.6814516129032258\n",
      "Best Test score: 0.6863468634686347\n"
     ]
    }
   ],
   "source": [
    "# assign your best estimator to a variable\n",
    "logr_best = logr_gs.best_estimator_\n",
    "\n",
    "# print out the best parameters\n",
    "print(logr_gs.best_params_)\n",
    "# print out the best mean cross-validated score\n",
    "print(\"Best Mean CV score:\", logr_gs.best_score_)\n",
    "# print out the best testing score\n",
    "print(\"Best Test score:\", logr_gs.score(Xn_test, yn_test))"
   ]
  },
  {
   "cell_type": "code",
   "execution_count": 73,
   "metadata": {},
   "outputs": [
    {
     "data": {
      "text/html": [
       "<div>\n",
       "<style scoped>\n",
       "    .dataframe tbody tr th:only-of-type {\n",
       "        vertical-align: middle;\n",
       "    }\n",
       "\n",
       "    .dataframe tbody tr th {\n",
       "        vertical-align: top;\n",
       "    }\n",
       "\n",
       "    .dataframe thead th {\n",
       "        text-align: right;\n",
       "    }\n",
       "</style>\n",
       "<table border=\"1\" class=\"dataframe\">\n",
       "  <thead>\n",
       "    <tr style=\"text-align: right;\">\n",
       "      <th></th>\n",
       "      <th>variable</th>\n",
       "      <th>coef</th>\n",
       "      <th>abs_coef</th>\n",
       "    </tr>\n",
       "  </thead>\n",
       "  <tbody>\n",
       "    <tr>\n",
       "      <th>39</th>\n",
       "      <td>level_Graduate</td>\n",
       "      <td>-0.561194</td>\n",
       "      <td>0.561194</td>\n",
       "    </tr>\n",
       "    <tr>\n",
       "      <th>50</th>\n",
       "      <td>level_Senior</td>\n",
       "      <td>0.416653</td>\n",
       "      <td>0.416653</td>\n",
       "    </tr>\n",
       "    <tr>\n",
       "      <th>43</th>\n",
       "      <td>level_Lead</td>\n",
       "      <td>0.388007</td>\n",
       "      <td>0.388007</td>\n",
       "    </tr>\n",
       "    <tr>\n",
       "      <th>28</th>\n",
       "      <td>position_Engineer</td>\n",
       "      <td>0.369279</td>\n",
       "      <td>0.369279</td>\n",
       "    </tr>\n",
       "    <tr>\n",
       "      <th>40</th>\n",
       "      <td>level_Junior</td>\n",
       "      <td>-0.311670</td>\n",
       "      <td>0.311670</td>\n",
       "    </tr>\n",
       "    <tr>\n",
       "      <th>12</th>\n",
       "      <td>city_London</td>\n",
       "      <td>0.310059</td>\n",
       "      <td>0.310059</td>\n",
       "    </tr>\n",
       "    <tr>\n",
       "      <th>33</th>\n",
       "      <td>position_Scientist</td>\n",
       "      <td>0.297932</td>\n",
       "      <td>0.297932</td>\n",
       "    </tr>\n",
       "    <tr>\n",
       "      <th>0</th>\n",
       "      <td>city_Birmingham</td>\n",
       "      <td>0.201507</td>\n",
       "      <td>0.201507</td>\n",
       "    </tr>\n",
       "    <tr>\n",
       "      <th>41</th>\n",
       "      <td>level_Junior, Graduate</td>\n",
       "      <td>-0.157604</td>\n",
       "      <td>0.157604</td>\n",
       "    </tr>\n",
       "    <tr>\n",
       "      <th>49</th>\n",
       "      <td>level_Principal</td>\n",
       "      <td>0.149831</td>\n",
       "      <td>0.149831</td>\n",
       "    </tr>\n",
       "  </tbody>\n",
       "</table>\n",
       "</div>"
      ],
      "text/plain": [
       "                  variable      coef  abs_coef\n",
       "39          level_Graduate -0.561194  0.561194\n",
       "50            level_Senior  0.416653  0.416653\n",
       "43              level_Lead  0.388007  0.388007\n",
       "28       position_Engineer  0.369279  0.369279\n",
       "40            level_Junior -0.311670  0.311670\n",
       "12             city_London  0.310059  0.310059\n",
       "33      position_Scientist  0.297932  0.297932\n",
       "0          city_Birmingham  0.201507  0.201507\n",
       "41  level_Junior, Graduate -0.157604  0.157604\n",
       "49         level_Principal  0.149831  0.149831"
      ]
     },
     "execution_count": 73,
     "metadata": {},
     "output_type": "execute_result"
    }
   ],
   "source": [
    "logregn_coefs = pd.DataFrame({'variable': Xn_dummy.columns,\n",
    "                            'coef': logr_best.coef_[0],\n",
    "                            'abs_coef': np.abs(logr_best.coef_[0])})\n",
    "\n",
    "logregn_coefs.sort_values('abs_coef', inplace=True, ascending=False)\n",
    "logregn_coefs.head(10)"
   ]
  },
  {
   "cell_type": "markdown",
   "metadata": {},
   "source": [
    "#### Decision Tree Classifier"
   ]
  },
  {
   "cell_type": "code",
   "execution_count": 74,
   "metadata": {},
   "outputs": [
    {
     "name": "stdout",
     "output_type": "stream",
     "text": [
      "Cross-validated training scores: [0.640553   0.70967742 0.67281106 0.69444444 0.64814815]\n",
      "Mean cross-validated training score: 0.6731268134493942\n",
      "Training Score: 0.7710064635272391\n",
      "Test Score: 0.6273062730627307\n"
     ]
    }
   ],
   "source": [
    "# create a decision tree classification model instance\n",
    "dectrecn = DecisionTreeClassifier(random_state=42)\n",
    "\n",
    "# fit and evaluate the data on the whole training set\n",
    "dectrecn.fit(Xn_train, yn_train)\n",
    "\n",
    "# get cross validated scores\n",
    "scores = cross_val_score(dectrecn, Xn_train, yn_train, cv=5)\n",
    "print(\"Cross-validated training scores:\", scores)\n",
    "print(\"Mean cross-validated training score:\", scores.mean())\n",
    "\n",
    "# evaluate data on the train and test set\n",
    "print(\"Training Score:\", dectrecn.score(Xn_train, yn_train))\n",
    "print(\"Test Score:\", dectrecn.score(Xn_test, yn_test))"
   ]
  },
  {
   "cell_type": "code",
   "execution_count": 75,
   "metadata": {},
   "outputs": [
    {
     "name": "stdout",
     "output_type": "stream",
     "text": [
      "Fitting 5 folds for each of 1050 candidates, totalling 5250 fits\n"
     ]
    },
    {
     "data": {
      "text/plain": [
       "GridSearchCV(cv=5, estimator=DecisionTreeClassifier(random_state=42), n_jobs=-2,\n",
       "             param_grid={'ccp_alpha': [0, 0.0001, 0.001, 0.005, 0.01],\n",
       "                         'max_depth': [None, 1, 2, 3, 4, 5, 6, 7, 8, 9],\n",
       "                         'max_features': ['auto', 'sqrt', 'log2'],\n",
       "                         'min_samples_split': [2, 3, 4, 5, 10, 15, 20]},\n",
       "             return_train_score=True, verbose=1)"
      ]
     },
     "execution_count": 75,
     "metadata": {},
     "output_type": "execute_result"
    }
   ],
   "source": [
    "# gridsearch params\n",
    "dtc_params = {\n",
    "    'max_depth': [None]+list(range(1, 10)),\n",
    "    'max_features': ['auto','sqrt','log2'],\n",
    "    'min_samples_split': [2, 3, 4, 5, 10, 15, 20],\n",
    "    'ccp_alpha': [0, 0.0001, 0.001, 0.005, 0.01]\n",
    "}\n",
    "\n",
    "# set the gridsearch\n",
    "model_dtc = DecisionTreeClassifier(random_state=42)\n",
    "dtc_gs = GridSearchCV(model_dtc, dtc_params, cv=5,\n",
    "                      verbose=1, n_jobs=-2, return_train_score=True)\n",
    "\n",
    "# use the gridearch model to fit the data\n",
    "dtc_gs.fit(Xn_train, yn_train)"
   ]
  },
  {
   "cell_type": "code",
   "execution_count": 76,
   "metadata": {},
   "outputs": [
    {
     "name": "stdout",
     "output_type": "stream",
     "text": [
      "{'ccp_alpha': 0.0001, 'max_depth': None, 'max_features': 'auto', 'min_samples_split': 20}\n",
      "Best Mean CV score: 0.6814601467827274\n",
      "Best Test score: 0.6199261992619927\n"
     ]
    }
   ],
   "source": [
    "# assign your best estimator to a variable\n",
    "dtc_best = dtc_gs.best_estimator_\n",
    "\n",
    "# print out the best parameters\n",
    "print(dtc_gs.best_params_)\n",
    "# print out the best mean cross-validated score\n",
    "print(\"Best Mean CV score:\", dtc_gs.best_score_)\n",
    "# print out the best testing score\n",
    "print(\"Best Test score:\", dtc_gs.score(Xn_test, yn_test))"
   ]
  },
  {
   "cell_type": "code",
   "execution_count": 77,
   "metadata": {},
   "outputs": [
    {
     "data": {
      "text/html": [
       "<div>\n",
       "<style scoped>\n",
       "    .dataframe tbody tr th:only-of-type {\n",
       "        vertical-align: middle;\n",
       "    }\n",
       "\n",
       "    .dataframe tbody tr th {\n",
       "        vertical-align: top;\n",
       "    }\n",
       "\n",
       "    .dataframe thead th {\n",
       "        text-align: right;\n",
       "    }\n",
       "</style>\n",
       "<table border=\"1\" class=\"dataframe\">\n",
       "  <thead>\n",
       "    <tr style=\"text-align: right;\">\n",
       "      <th></th>\n",
       "      <th>Feature</th>\n",
       "      <th>Importance</th>\n",
       "    </tr>\n",
       "  </thead>\n",
       "  <tbody>\n",
       "    <tr>\n",
       "      <th>50</th>\n",
       "      <td>level_Senior</td>\n",
       "      <td>0.108848</td>\n",
       "    </tr>\n",
       "    <tr>\n",
       "      <th>39</th>\n",
       "      <td>level_Graduate</td>\n",
       "      <td>0.087272</td>\n",
       "    </tr>\n",
       "    <tr>\n",
       "      <th>33</th>\n",
       "      <td>position_Scientist</td>\n",
       "      <td>0.074919</td>\n",
       "    </tr>\n",
       "    <tr>\n",
       "      <th>28</th>\n",
       "      <td>position_Engineer</td>\n",
       "      <td>0.062716</td>\n",
       "    </tr>\n",
       "    <tr>\n",
       "      <th>43</th>\n",
       "      <td>level_Lead</td>\n",
       "      <td>0.052191</td>\n",
       "    </tr>\n",
       "    <tr>\n",
       "      <th>12</th>\n",
       "      <td>city_London</td>\n",
       "      <td>0.046793</td>\n",
       "    </tr>\n",
       "    <tr>\n",
       "      <th>11</th>\n",
       "      <td>city_Liverpool</td>\n",
       "      <td>0.036055</td>\n",
       "    </tr>\n",
       "    <tr>\n",
       "      <th>2</th>\n",
       "      <td>city_Bristol</td>\n",
       "      <td>0.035674</td>\n",
       "    </tr>\n",
       "    <tr>\n",
       "      <th>0</th>\n",
       "      <td>city_Birmingham</td>\n",
       "      <td>0.035361</td>\n",
       "    </tr>\n",
       "    <tr>\n",
       "      <th>40</th>\n",
       "      <td>level_Junior</td>\n",
       "      <td>0.035051</td>\n",
       "    </tr>\n",
       "  </tbody>\n",
       "</table>\n",
       "</div>"
      ],
      "text/plain": [
       "               Feature  Importance\n",
       "50        level_Senior    0.108848\n",
       "39      level_Graduate    0.087272\n",
       "33  position_Scientist    0.074919\n",
       "28   position_Engineer    0.062716\n",
       "43          level_Lead    0.052191\n",
       "12         city_London    0.046793\n",
       "11      city_Liverpool    0.036055\n",
       "2         city_Bristol    0.035674\n",
       "0      city_Birmingham    0.035361\n",
       "40        level_Junior    0.035051"
      ]
     },
     "execution_count": 77,
     "metadata": {},
     "output_type": "execute_result"
    }
   ],
   "source": [
    "pd.DataFrame(list(zip(Xn_dummy.columns, dtc_best.feature_importances_)), \n",
    "             columns=['Feature', 'Importance']).sort_values(by='Importance', ascending=False).head(10)"
   ]
  },
  {
   "cell_type": "markdown",
   "metadata": {},
   "source": [
    "#### Random Forest Classifier"
   ]
  },
  {
   "cell_type": "code",
   "execution_count": 78,
   "metadata": {},
   "outputs": [
    {
     "name": "stdout",
     "output_type": "stream",
     "text": [
      "Cross-validated training scores: [0.64976959 0.68202765 0.65898618 0.66203704 0.63888889]\n",
      "Mean cross-validated training score: 0.6583418672128349\n",
      "Training Score: 0.7710064635272391\n",
      "Test Score: 0.6642066420664207\n"
     ]
    }
   ],
   "source": [
    "# create a random forest classification model instance\n",
    "ranforcn = RandomForestClassifier(random_state=42)\n",
    "\n",
    "# fit and evaluate the data on the whole training set\n",
    "ranforcn.fit(Xn_train, yn_train)\n",
    "\n",
    "# get cross validated scores\n",
    "scores = cross_val_score(ranforcn, Xn_train, yn_train, cv=5)\n",
    "print(\"Cross-validated training scores:\", scores)\n",
    "print(\"Mean cross-validated training score:\", scores.mean())\n",
    "\n",
    "# evaluate data on the train and test set\n",
    "print(\"Training Score:\", ranforcn.score(Xn_train, yn_train))\n",
    "print(\"Test Score:\", ranforcn.score(Xn_test, yn_test))"
   ]
  },
  {
   "cell_type": "code",
   "execution_count": 79,
   "metadata": {},
   "outputs": [
    {
     "name": "stdout",
     "output_type": "stream",
     "text": [
      "Fitting 5 folds for each of 480 candidates, totalling 2400 fits\n"
     ]
    },
    {
     "data": {
      "text/plain": [
       "GridSearchCV(cv=5, estimator=RandomForestClassifier(random_state=42), n_jobs=-2,\n",
       "             param_grid={'max_depth': [None, 1, 2, 3, 4, 5, 6, 7, 8, 9],\n",
       "                         'max_features': ['auto', 'sqrt', 'log2'],\n",
       "                         'min_samples_split': [2, 3, 4, 5, 10, 15, 20, 25],\n",
       "                         'n_estimators': [50, 100]},\n",
       "             return_train_score=True, verbose=1)"
      ]
     },
     "execution_count": 79,
     "metadata": {},
     "output_type": "execute_result"
    }
   ],
   "source": [
    "# gridsearch params\n",
    "rfc_params = {\n",
    "    'n_estimators': [50, 100],\n",
    "    'max_depth': [None]+list(range(1, 10)),\n",
    "    'max_features': ['auto','sqrt','log2'],\n",
    "    'min_samples_split': [2, 3, 4, 5, 10, 15, 20, 25]\n",
    "}\n",
    "\n",
    "# set the gridsearch\n",
    "model_rfc = RandomForestClassifier(random_state=42)\n",
    "rfc_gs = GridSearchCV(model_rfc, rfc_params, cv=5,\n",
    "                      verbose=1, n_jobs=-2, return_train_score=True)\n",
    "\n",
    "# use the gridearch model to fit the data\n",
    "rfc_gs.fit(Xn_train, yn_train)"
   ]
  },
  {
   "cell_type": "code",
   "execution_count": 80,
   "metadata": {},
   "outputs": [
    {
     "name": "stdout",
     "output_type": "stream",
     "text": [
      "{'max_depth': None, 'max_features': 'auto', 'min_samples_split': 25, 'n_estimators': 50}\n",
      "Best Mean CV score: 0.676826250213347\n",
      "Best Test score: 0.6605166051660517\n"
     ]
    }
   ],
   "source": [
    "# assign your best estimator to a variable\n",
    "rfc_best = rfc_gs.best_estimator_\n",
    "\n",
    "# print out the best parameters\n",
    "print(rfc_gs.best_params_)\n",
    "# print out the best mean cross-validated score\n",
    "print(\"Best Mean CV score:\", rfc_gs.best_score_)\n",
    "# print out the best testing score\n",
    "print(\"Best Test score:\", rfc_gs.score(Xn_test, yn_test))"
   ]
  },
  {
   "cell_type": "code",
   "execution_count": 81,
   "metadata": {},
   "outputs": [
    {
     "data": {
      "text/html": [
       "<div>\n",
       "<style scoped>\n",
       "    .dataframe tbody tr th:only-of-type {\n",
       "        vertical-align: middle;\n",
       "    }\n",
       "\n",
       "    .dataframe tbody tr th {\n",
       "        vertical-align: top;\n",
       "    }\n",
       "\n",
       "    .dataframe thead th {\n",
       "        text-align: right;\n",
       "    }\n",
       "</style>\n",
       "<table border=\"1\" class=\"dataframe\">\n",
       "  <thead>\n",
       "    <tr style=\"text-align: right;\">\n",
       "      <th></th>\n",
       "      <th>Feature</th>\n",
       "      <th>Importance</th>\n",
       "    </tr>\n",
       "  </thead>\n",
       "  <tbody>\n",
       "    <tr>\n",
       "      <th>50</th>\n",
       "      <td>level_Senior</td>\n",
       "      <td>0.119335</td>\n",
       "    </tr>\n",
       "    <tr>\n",
       "      <th>39</th>\n",
       "      <td>level_Graduate</td>\n",
       "      <td>0.089287</td>\n",
       "    </tr>\n",
       "    <tr>\n",
       "      <th>28</th>\n",
       "      <td>position_Engineer</td>\n",
       "      <td>0.060805</td>\n",
       "    </tr>\n",
       "    <tr>\n",
       "      <th>33</th>\n",
       "      <td>position_Scientist</td>\n",
       "      <td>0.060539</td>\n",
       "    </tr>\n",
       "    <tr>\n",
       "      <th>43</th>\n",
       "      <td>level_Lead</td>\n",
       "      <td>0.055861</td>\n",
       "    </tr>\n",
       "    <tr>\n",
       "      <th>12</th>\n",
       "      <td>city_London</td>\n",
       "      <td>0.052250</td>\n",
       "    </tr>\n",
       "    <tr>\n",
       "      <th>19</th>\n",
       "      <td>position_Analyst</td>\n",
       "      <td>0.052000</td>\n",
       "    </tr>\n",
       "    <tr>\n",
       "      <th>40</th>\n",
       "      <td>level_Junior</td>\n",
       "      <td>0.048600</td>\n",
       "    </tr>\n",
       "    <tr>\n",
       "      <th>23</th>\n",
       "      <td>position_Consultant</td>\n",
       "      <td>0.031270</td>\n",
       "    </tr>\n",
       "    <tr>\n",
       "      <th>25</th>\n",
       "      <td>position_Developer</td>\n",
       "      <td>0.028339</td>\n",
       "    </tr>\n",
       "  </tbody>\n",
       "</table>\n",
       "</div>"
      ],
      "text/plain": [
       "                Feature  Importance\n",
       "50         level_Senior    0.119335\n",
       "39       level_Graduate    0.089287\n",
       "28    position_Engineer    0.060805\n",
       "33   position_Scientist    0.060539\n",
       "43           level_Lead    0.055861\n",
       "12          city_London    0.052250\n",
       "19     position_Analyst    0.052000\n",
       "40         level_Junior    0.048600\n",
       "23  position_Consultant    0.031270\n",
       "25   position_Developer    0.028339"
      ]
     },
     "execution_count": 81,
     "metadata": {},
     "output_type": "execute_result"
    }
   ],
   "source": [
    "pd.DataFrame(list(zip(Xn_dummy.columns, rfc_best.feature_importances_)), \n",
    "             columns=['Feature', 'Importance']).sort_values(by='Importance', ascending=False).head(10)"
   ]
  },
  {
   "cell_type": "markdown",
   "metadata": {},
   "source": [
    "The 'location' feature does not seem to be as important as the 'level' and 'position' features I defined. The most important features across all three models were:\n",
    "- level = Senior/Graduate,\n",
    "- position = Engineer/Scientist, and\n",
    "- location = London (Liverpool made it into the top 10 features for the Decision Tree model)"
   ]
  },
  {
   "cell_type": "markdown",
   "metadata": {
    "focus": false,
    "id": "4fb29de2-5b98-474c-a4ad-5170b72b9aea"
   },
   "source": [
    "### Model evaluation:\n",
    "\n",
    "Your boss would rather tell a client incorrectly that they would get a lower salary job than tell a client incorrectly that they would get a high salary job. Adjust one of your models to ease his mind, and explain what it is doing and any tradeoffs.\n",
    "\n",
    "\n",
    "- Use cross-validation to evaluate your models.\n",
    "- Evaluate the accuracy, AUC, precision and recall of the models.\n",
    "- Plot the ROC and precision-recall curves for at least one of your models."
   ]
  },
  {
   "cell_type": "markdown",
   "metadata": {},
   "source": [
    "My best performing model was my Logistic Regression model. I will use this model moving forward."
   ]
  },
  {
   "cell_type": "code",
   "execution_count": 82,
   "metadata": {},
   "outputs": [],
   "source": [
    "from sklearn.metrics import classification_report, accuracy_score, confusion_matrix\n",
    "import scikitplot as skplt"
   ]
  },
  {
   "cell_type": "code",
   "execution_count": 83,
   "metadata": {},
   "outputs": [
    {
     "data": {
      "image/png": "[encoded data removed]",
      "text/plain": [
       "<Figure size 432x432 with 2 Axes>"
      ]
     },
     "metadata": {
      "needs_background": "light"
     },
     "output_type": "display_data"
    }
   ],
   "source": [
    "# Confusion matrix\n",
    "\n",
    "#predictions\n",
    "predictions_train = logr_best.predict(Xn_train)\n",
    "predictions_test = logr_best.predict(Xn_test)\n",
    "\n",
    "# plot Confusion matrix for train predictions\n",
    "skplt.metrics.plot_confusion_matrix(yn_train, predictions_train, figsize=(6,6))\n",
    "plt.title(\"Confusion Matrix - Train Model\")\n",
    "\n",
    "# # plot Confusion matrix for test predictions\n",
    "# skplt.metrics.plot_confusion_matrix(yn_test, predictions_test, figsize=(6, 6))\n",
    "# plt.title(\"Confusion Matrix - Test Model\")\n",
    "\n",
    "plt.savefig(\"images/04 Confusion Matrix - original.png\", bbox_inches=\"tight\")"
   ]
  },
  {
   "cell_type": "code",
   "execution_count": 84,
   "metadata": {},
   "outputs": [
    {
     "name": "stdout",
     "output_type": "stream",
     "text": [
      "Best Train score: 0.7072945521698984\n",
      "Best Mean CV score: 0.6814516129032258\n",
      "Best Test score: 0.6863468634686347\n"
     ]
    }
   ],
   "source": [
    "# Accuracy score\n",
    "\n",
    "# train score\n",
    "print(\"Best Train score:\", accuracy_score(yn_train, predictions_train))\n",
    "# mean cv score\n",
    "print(\"Best Mean CV score:\", logr_gs.best_score_)\n",
    "# test score\n",
    "print(\"Best Test score:\", accuracy_score(yn_test, predictions_test))"
   ]
  },
  {
   "cell_type": "code",
   "execution_count": 85,
   "metadata": {},
   "outputs": [
    {
     "name": "stdout",
     "output_type": "stream",
     "text": [
      "TRAIN MODEL:\n",
      "               precision    recall  f1-score   support\n",
      "\n",
      "           0       0.68      0.67      0.67       488\n",
      "           1       0.73      0.74      0.74       595\n",
      "\n",
      "    accuracy                           0.71      1083\n",
      "   macro avg       0.70      0.70      0.70      1083\n",
      "weighted avg       0.71      0.71      0.71      1083\n",
      " \n",
      "\n",
      "TEST MODEL:\n",
      "               precision    recall  f1-score   support\n",
      "\n",
      "           0       0.63      0.69      0.66       118\n",
      "           1       0.74      0.69      0.71       153\n",
      "\n",
      "    accuracy                           0.69       271\n",
      "   macro avg       0.68      0.69      0.68       271\n",
      "weighted avg       0.69      0.69      0.69       271\n",
      "\n"
     ]
    }
   ],
   "source": [
    "# Classification report\n",
    "\n",
    "# for train model\n",
    "print(\"TRAIN MODEL:\\n\", classification_report(yn_train, predictions_train), \"\\n\")\n",
    "# for test model\n",
    "print(\"TEST MODEL:\\n\", classification_report(yn_test, predictions_test))"
   ]
  },
  {
   "cell_type": "code",
   "execution_count": 86,
   "metadata": {},
   "outputs": [
    {
     "data": {
      "image/png": "[encoded data removed]",
      "text/plain": [
       "<Figure size 432x288 with 1 Axes>"
      ]
     },
     "metadata": {
      "needs_background": "light"
     },
     "output_type": "display_data"
    },
    {
     "data": {
      "image/png": "[encoded data removed]",
      "text/plain": [
       "<Figure size 432x288 with 1 Axes>"
      ]
     },
     "metadata": {
      "needs_background": "light"
     },
     "output_type": "display_data"
    }
   ],
   "source": [
    "# Precision-recall and ROC curve\n",
    "\n",
    "# probabilities\n",
    "probabilities_train = logr_best.predict_proba(Xn_train)\n",
    "probabilities_test = logr_best.predict_proba(Xn_test)\n",
    "\n",
    "from matplotlib.colors import ListedColormap\n",
    "cmap = ListedColormap(sns.color_palette(\"husl\", len(logr_best.classes_)))\n",
    "\n",
    "# Precision-Recall Curve for train probabilities\n",
    "skplt.metrics.plot_precision_recall(yn_train, probabilities_train, cmap=cmap)\n",
    "plt.title(\"Precision-Recall Curve - Train Model\")\n",
    "\n",
    "# ROC Curves for train probabilities\n",
    "skplt.metrics.plot_roc(yn_train, probabilities_train, cmap=cmap)\n",
    "plt.title(\"ROC Curves - Train Model\")\n",
    "\n",
    "# # Precision-Recall Curve for test probabilities\n",
    "# skplt.metrics.plot_precision_recall(yn_test, probabilities_test, cmap=cmap)\n",
    "# plt.title(\"Precision-Recall Curve - Test Model\")\n",
    "\n",
    "# # ROC Curves for test probabilities\n",
    "# skplt.metrics.plot_roc(yn_test, probabilities_test, cmap=cmap)\n",
    "# plt.title(\"ROC Curves - Test Model\")\n",
    "\n",
    "plt.savefig(\"images/05 PR-AUROC Curvers - original.png\", bbox_inches=\"tight\")"
   ]
  },
  {
   "cell_type": "markdown",
   "metadata": {},
   "source": [
    "<img src=\"http://imgur.com/xDpSobf.png\" style=\"float: left; margin: 25px 15px 0px 0px; height: 25px\">\n",
    "\n",
    "### Bonus:\n",
    "\n",
    "- Answer the salary discussion by using your model to explain the tradeoffs between detecting high vs low salary positions. \n",
    "- Discuss the differences and explain when you want a high-recall or a high-precision model in this scenario.\n",
    "- Obtain the ROC/precision-recall curves for the different models you studied (at least the tuned model of each category) and compare."
   ]
  },
  {
   "cell_type": "markdown",
   "metadata": {},
   "source": [
    "#### Increase the threshold for predicting a lower salary job.\n",
    "\n",
    "Right now the classifier is choosing to label low salary versus high salary based on the 0.5 predicted probability threshold. \n"
   ]
  },
  {
   "cell_type": "code",
   "execution_count": 87,
   "metadata": {},
   "outputs": [
    {
     "data": {
      "text/html": [
       "<div>\n",
       "<style scoped>\n",
       "    .dataframe tbody tr th:only-of-type {\n",
       "        vertical-align: middle;\n",
       "    }\n",
       "\n",
       "    .dataframe tbody tr th {\n",
       "        vertical-align: top;\n",
       "    }\n",
       "\n",
       "    .dataframe thead th {\n",
       "        text-align: right;\n",
       "    }\n",
       "</style>\n",
       "<table border=\"1\" class=\"dataframe\">\n",
       "  <thead>\n",
       "    <tr style=\"text-align: right;\">\n",
       "      <th></th>\n",
       "      <th>low_salary</th>\n",
       "      <th>high_salary</th>\n",
       "    </tr>\n",
       "  </thead>\n",
       "  <tbody>\n",
       "    <tr>\n",
       "      <th>0</th>\n",
       "      <td>0.312979</td>\n",
       "      <td>0.687021</td>\n",
       "    </tr>\n",
       "    <tr>\n",
       "      <th>1</th>\n",
       "      <td>0.179791</td>\n",
       "      <td>0.820209</td>\n",
       "    </tr>\n",
       "    <tr>\n",
       "      <th>2</th>\n",
       "      <td>0.363881</td>\n",
       "      <td>0.636119</td>\n",
       "    </tr>\n",
       "    <tr>\n",
       "      <th>3</th>\n",
       "      <td>0.614302</td>\n",
       "      <td>0.385698</td>\n",
       "    </tr>\n",
       "    <tr>\n",
       "      <th>4</th>\n",
       "      <td>0.336315</td>\n",
       "      <td>0.663685</td>\n",
       "    </tr>\n",
       "  </tbody>\n",
       "</table>\n",
       "</div>"
      ],
      "text/plain": [
       "   low_salary  high_salary\n",
       "0    0.312979     0.687021\n",
       "1    0.179791     0.820209\n",
       "2    0.363881     0.636119\n",
       "3    0.614302     0.385698\n",
       "4    0.336315     0.663685"
      ]
     },
     "execution_count": 87,
     "metadata": {},
     "output_type": "execute_result"
    }
   ],
   "source": [
    "# Get the predicted probabilities and explicitly name the columns:\n",
    "Y_pp = pd.DataFrame(logr_best.predict_proba(Xn_train), \n",
    "             columns=['low_salary', 'high_salary'])\n",
    "Y_pp.head()"
   ]
  },
  {
   "cell_type": "code",
   "execution_count": 88,
   "metadata": {},
   "outputs": [],
   "source": [
    "def predict_at_threshold(x, threshold=0.5):\n",
    "    if x <= threshold:\n",
    "        return 1\n",
    "    else:\n",
    "        return 0"
   ]
  },
  {
   "cell_type": "code",
   "execution_count": 89,
   "metadata": {},
   "outputs": [],
   "source": [
    "# Create a new column with predicted labels where the threshold\n",
    "#  for labeling class is 80% rather than 50%.\n",
    "Y_pp['pred_class_thresh'] = Y_pp['low_salary'].apply(predict_at_threshold, \n",
    "                                                threshold=0.2)"
   ]
  },
  {
   "cell_type": "code",
   "execution_count": 90,
   "metadata": {},
   "outputs": [
    {
     "data": {
      "image/png": "[encoded data removed]",
      "text/plain": [
       "<Figure size 432x432 with 2 Axes>"
      ]
     },
     "metadata": {
      "needs_background": "light"
     },
     "output_type": "display_data"
    }
   ],
   "source": [
    "# plot Confusion matrix for train predictions\n",
    "skplt.metrics.plot_confusion_matrix(yn_train, Y_pp.pred_class_thresh, figsize=(6,6))\n",
    "plt.title(\"Confusion Matrix - Train Model\")\n",
    "\n",
    "plt.savefig(\"images/06 Confusion Matrix - threshold.png\", bbox_inches=\"tight\")"
   ]
  },
  {
   "cell_type": "code",
   "execution_count": 91,
   "metadata": {},
   "outputs": [
    {
     "name": "stdout",
     "output_type": "stream",
     "text": [
      "Train score: 0.5835641735918744\n"
     ]
    }
   ],
   "source": [
    "# Accuracy score\n",
    "\n",
    "# train score\n",
    "print(\"Train score:\", accuracy_score(yn_train, Y_pp.pred_class_thresh))"
   ]
  },
  {
   "cell_type": "code",
   "execution_count": 92,
   "metadata": {},
   "outputs": [
    {
     "name": "stdout",
     "output_type": "stream",
     "text": [
      "TRAIN MODEL:\n",
      "               precision    recall  f1-score   support\n",
      "\n",
      "           0       0.52      0.97      0.68       488\n",
      "           1       0.92      0.27      0.41       595\n",
      "\n",
      "    accuracy                           0.58      1083\n",
      "   macro avg       0.72      0.62      0.54      1083\n",
      "weighted avg       0.74      0.58      0.53      1083\n",
      "\n"
     ]
    }
   ],
   "source": [
    "# Classification report\n",
    "\n",
    "# for train model\n",
    "print(\"TRAIN MODEL:\\n\", classification_report(yn_train, Y_pp.pred_class_thresh))"
   ]
  },
  {
   "cell_type": "code",
   "execution_count": 93,
   "metadata": {},
   "outputs": [
    {
     "data": {
      "image/png": "[encoded data removed]",
      "text/plain": [
       "<Figure size 432x288 with 1 Axes>"
      ]
     },
     "metadata": {
      "needs_background": "light"
     },
     "output_type": "display_data"
    },
    {
     "data": {
      "image/png": "[encoded data removed]",
      "text/plain": [
       "<Figure size 432x288 with 1 Axes>"
      ]
     },
     "metadata": {
      "needs_background": "light"
     },
     "output_type": "display_data"
    }
   ],
   "source": [
    "# Precision-recall and ROC curve\n",
    "\n",
    "# probabilities\n",
    "probabilities_train = logr_best.predict_proba(Xn_train)\n",
    "\n",
    "# Precision-Recall Curve for train probabilities\n",
    "skplt.metrics.plot_precision_recall(Y_pp['pred_class_thresh'], probabilities_train, cmap=cmap)\n",
    "plt.title(\"Precision-Recall Curve - Train Model\")\n",
    "\n",
    "# ROC Curves for train probabilities\n",
    "skplt.metrics.plot_roc(Y_pp['pred_class_thresh'], probabilities_train, cmap=cmap)\n",
    "plt.title(\"ROC Curves - Train Model\")\n",
    "\n",
    "plt.savefig(\"images/07 PR-AUROC Curvers - threshold.png\", bbox_inches=\"tight\")"
   ]
  },
  {
   "cell_type": "markdown",
   "metadata": {},
   "source": [
    "`Precision = TP / (TP + FP)`\n",
    "\n",
    "`Recall = TP / (TP + FN)`\n",
    "\n",
    "The tradeoff with telling a client incorrectly that they would get a lower salary job over telling a client incorrectly that they would get a high salary job, is that the model recall (The ability of the classifier to correctly identify the current class) increases at the expense of the model precision (The ability of the classifier to avoid labeling a class as a member of another class).\n",
    "\n",
    "If the number of FN values decreases (and the value of FP increases), model recall increases while model precision decreases."
   ]
  }
 ],
 "metadata": {
  "kernelspec": {
   "display_name": "Python 3",
   "language": "python",
   "name": "python3"
  },
  "language_info": {
   "codemirror_mode": {
    "name": "ipython",
    "version": 3
   },
   "file_extension": ".py",
   "mimetype": "text/x-python",
   "name": "python",
   "nbconvert_exporter": "python",
   "pygments_lexer": "ipython3",
   "version": "3.8.5"
  },
  "toc": {
   "base_numbering": 1,
   "nav_menu": {},
   "number_sections": false,
   "sideBar": true,
   "skip_h1_title": true,
   "title_cell": "Table of Contents",
   "title_sidebar": "Contents",
   "toc_cell": false,
   "toc_position": {},
   "toc_section_display": "block",
   "toc_window_display": false
  }
 },
 "nbformat": 4,
 "nbformat_minor": 1
}
